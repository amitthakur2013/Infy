{
  "nbformat": 4,
  "nbformat_minor": 0,
  "metadata": {
    "colab": {
      "name": "python-regex.ipynb",
      "provenance": [],
      "collapsed_sections": [],
      "authorship_tag": "ABX9TyML8Oywzy+a4ibyh/wcbJCR",
      "include_colab_link": true
    },
    "kernelspec": {
      "name": "python3",
      "display_name": "Python 3"
    }
  },
  "cells": [
    {
      "cell_type": "markdown",
      "metadata": {
        "id": "view-in-github",
        "colab_type": "text"
      },
      "source": [
        "<a href=\"https://colab.research.google.com/github/amitthakur2013/Infy/blob/master/python_regex.ipynb\" target=\"_parent\"><img src=\"https://colab.research.google.com/assets/colab-badge.svg\" alt=\"Open In Colab\"/></a>"
      ]
    },
    {
      "cell_type": "code",
      "metadata": {
        "id": "Q3wbvtYwD20i",
        "colab_type": "code",
        "colab": {}
      },
      "source": [
        "s=\"Hello there, How Are You!....\""
      ],
      "execution_count": 0,
      "outputs": []
    },
    {
      "cell_type": "code",
      "metadata": {
        "id": "0pTbw2z1FO8d",
        "colab_type": "code",
        "outputId": "c2b6d4ce-1b60-4b4e-ea45-076b14615ded",
        "colab": {
          "base_uri": "https://localhost:8080/",
          "height": 34
        }
      },
      "source": [
        "import re \n",
        "print(re.findall('[A-Z]',s))"
      ],
      "execution_count": 0,
      "outputs": [
        {
          "output_type": "stream",
          "text": [
            "['H', 'H', 'A', 'Y']\n"
          ],
          "name": "stdout"
        }
      ]
    },
    {
      "cell_type": "code",
      "metadata": {
        "id": "nz7-H1mBFg2N",
        "colab_type": "code",
        "outputId": "c88f61b5-6728-4500-94b0-20ac7b4c86b3",
        "colab": {
          "base_uri": "https://localhost:8080/",
          "height": 34
        }
      },
      "source": [
        "print(re.findall('[A-Za-z,.!\\s]',s))"
      ],
      "execution_count": 0,
      "outputs": [
        {
          "output_type": "stream",
          "text": [
            "['a', 'b', 'c', 'd', ' ', 'e', 'f', 'g', 'h', ' ', 'i', 'j', 'k', 'l']\n"
          ],
          "name": "stdout"
        }
      ]
    },
    {
      "cell_type": "code",
      "metadata": {
        "id": "PnyS39TkYqUo",
        "colab_type": "code",
        "outputId": "3d82b5e0-bf57-4972-dfd1-c18847e9c650",
        "colab": {
          "base_uri": "https://localhost:8080/",
          "height": 34
        }
      },
      "source": [
        "import re\n",
        "word=\"Indian Airlines4\"\n",
        "if(re.search(r\"^I\",word) and re.search(r\"e$\",word)):\n",
        "    print(re.sub(r\"Indian\",r\"Singapore\",word))\n",
        "else:\n",
        "    print(re.sub(r\"s(\\d{1})\",r\"S\\1\",word))"
      ],
      "execution_count": 0,
      "outputs": [
        {
          "output_type": "stream",
          "text": [
            "Indian AirlineS4\n"
          ],
          "name": "stdout"
        }
      ]
    },
    {
      "cell_type": "code",
      "metadata": {
        "id": "hPsNX5BTFzGl",
        "colab_type": "code",
        "outputId": "dcb8822f-a4b2-495a-f56f-3f8688cfa270",
        "colab": {
          "base_uri": "https://localhost:8080/",
          "height": 34
        }
      },
      "source": [
        "re.search(\"n\",r\"\\n\\n\\n\\n\").group()"
      ],
      "execution_count": 0,
      "outputs": [
        {
          "output_type": "execute_result",
          "data": {
            "text/plain": [
              "'n'"
            ]
          },
          "metadata": {
            "tags": []
          },
          "execution_count": 11
        }
      ]
    },
    {
      "cell_type": "code",
      "metadata": {
        "id": "PvT7KnU7bhNw",
        "colab_type": "code",
        "colab": {}
      },
      "source": [
        "'\\s'=matches any whitespace character\n",
        "'\\S'=matches any non whitespace character\n"
      ],
      "execution_count": 0,
      "outputs": []
    },
    {
      "cell_type": "code",
      "metadata": {
        "id": "8MfAlzmwbt0h",
        "colab_type": "code",
        "outputId": "3626da29-d518-451d-850c-1bb741925cd0",
        "colab": {
          "base_uri": "https://localhost:8080/",
          "height": 34
        }
      },
      "source": [
        "s=\"abcd efgh ijkl\"\n",
        "print(re.search(r'\\S+',s).group())"
      ],
      "execution_count": 0,
      "outputs": [
        {
          "output_type": "stream",
          "text": [
            "abcd\n"
          ],
          "name": "stdout"
        }
      ]
    },
    {
      "cell_type": "code",
      "metadata": {
        "id": "C0pmeHnocHne",
        "colab_type": "code",
        "outputId": "cb50015d-2557-4b7e-a4c2-9d2fbffe5083",
        "colab": {
          "base_uri": "https://localhost:8080/",
          "height": 34
        }
      },
      "source": [
        "' '.join(re.findall(r'\\S+',s))"
      ],
      "execution_count": 0,
      "outputs": [
        {
          "output_type": "execute_result",
          "data": {
            "text/plain": [
              "'abcd efgh ijkl'"
            ]
          },
          "metadata": {
            "tags": []
          },
          "execution_count": 17
        }
      ]
    },
    {
      "cell_type": "markdown",
      "metadata": {
        "id": "Rn3UTRzad7gE",
        "colab_type": "text"
      },
      "source": [
        "**Quantifiers with custom sets:**"
      ]
    },
    {
      "cell_type": "code",
      "metadata": {
        "id": "DAw-uc_ccOav",
        "colab_type": "code",
        "colab": {}
      },
      "source": [
        "+\n",
        "?\n",
        "*\n",
        "{}"
      ],
      "execution_count": 0,
      "outputs": []
    },
    {
      "cell_type": "code",
      "metadata": {
        "id": "wKRbEW_VeEiM",
        "colab_type": "code",
        "colab": {}
      },
      "source": [
        "s='HELLO, There, How, Are, You...'"
      ],
      "execution_count": 0,
      "outputs": []
    },
    {
      "cell_type": "code",
      "metadata": {
        "id": "rodJD6NleS_i",
        "colab_type": "code",
        "outputId": "f10fca57-4e86-4371-ab6b-0a927772f0e5",
        "colab": {
          "base_uri": "https://localhost:8080/",
          "height": 34
        }
      },
      "source": [
        "re.search('[A-Z]+',s)"
      ],
      "execution_count": 0,
      "outputs": [
        {
          "output_type": "execute_result",
          "data": {
            "text/plain": [
              "<_sre.SRE_Match object; span=(0, 5), match='HELLO'>"
            ]
          },
          "metadata": {
            "tags": []
          },
          "execution_count": 24
        }
      ]
    },
    {
      "cell_type": "code",
      "metadata": {
        "id": "j0y8dTf1ejfX",
        "colab_type": "code",
        "outputId": "220a25ce-d6c9-4999-bcca-d5c160044d1a",
        "colab": {
          "base_uri": "https://localhost:8080/",
          "height": 34
        }
      },
      "source": [
        "re.findall('[A-Z]+',s)"
      ],
      "execution_count": 0,
      "outputs": [
        {
          "output_type": "execute_result",
          "data": {
            "text/plain": [
              "['HELLO', 'T', 'H', 'A', 'Y']"
            ]
          },
          "metadata": {
            "tags": []
          },
          "execution_count": 26
        }
      ]
    },
    {
      "cell_type": "code",
      "metadata": {
        "id": "Ozb6Fz9LesNi",
        "colab_type": "code",
        "outputId": "a944c6d3-ba77-4add-cdc2-e51f7a228c07",
        "colab": {
          "base_uri": "https://localhost:8080/",
          "height": 34
        }
      },
      "source": [
        "re.findall('[A-Z]{3,}',s)"
      ],
      "execution_count": 0,
      "outputs": [
        {
          "output_type": "execute_result",
          "data": {
            "text/plain": [
              "['HELLO']"
            ]
          },
          "metadata": {
            "tags": []
          },
          "execution_count": 35
        }
      ]
    },
    {
      "cell_type": "code",
      "metadata": {
        "id": "W1G9nJcae5kz",
        "colab_type": "code",
        "outputId": "768987a2-8abe-4702-edea-06f0715aa124",
        "colab": {
          "base_uri": "https://localhost:8080/",
          "height": 550
        }
      },
      "source": [
        "re.findall('[A-Za-z\\s,.]',s)"
      ],
      "execution_count": 0,
      "outputs": [
        {
          "output_type": "execute_result",
          "data": {
            "text/plain": [
              "['H',\n",
              " 'E',\n",
              " 'L',\n",
              " 'L',\n",
              " 'O',\n",
              " ',',\n",
              " ' ',\n",
              " 'T',\n",
              " 'h',\n",
              " 'e',\n",
              " 'r',\n",
              " 'e',\n",
              " ',',\n",
              " ' ',\n",
              " 'H',\n",
              " 'o',\n",
              " 'w',\n",
              " ',',\n",
              " ' ',\n",
              " 'A',\n",
              " 'r',\n",
              " 'e',\n",
              " ',',\n",
              " ' ',\n",
              " 'Y',\n",
              " 'o',\n",
              " 'u',\n",
              " '.',\n",
              " '.',\n",
              " '.']"
            ]
          },
          "metadata": {
            "tags": []
          },
          "execution_count": 38
        }
      ]
    },
    {
      "cell_type": "code",
      "metadata": {
        "id": "eHBxF19efa_7",
        "colab_type": "code",
        "outputId": "be0629ea-8db1-440a-d554-9ad5d076c77f",
        "colab": {
          "base_uri": "https://localhost:8080/",
          "height": 34
        }
      },
      "source": [
        "re.findall('[A-Z]?[a-z\\s,.]+',s)"
      ],
      "execution_count": 0,
      "outputs": [
        {
          "output_type": "execute_result",
          "data": {
            "text/plain": [
              "['O, ', 'There, ', 'How, ', 'Are, ', 'You...']"
            ]
          },
          "metadata": {
            "tags": []
          },
          "execution_count": 42
        }
      ]
    },
    {
      "cell_type": "code",
      "metadata": {
        "id": "pqCSDHjygDMr",
        "colab_type": "code",
        "outputId": "1e274aef-5742-486a-d918-690efa76e707",
        "colab": {
          "base_uri": "https://localhost:8080/",
          "height": 34
        }
      },
      "source": [
        "re.search('[A-Za-z\\s,.]+',s).group()"
      ],
      "execution_count": 0,
      "outputs": [
        {
          "output_type": "execute_result",
          "data": {
            "text/plain": [
              "'HELLO, There, How, Are, You...'"
            ]
          },
          "metadata": {
            "tags": []
          },
          "execution_count": 45
        }
      ]
    },
    {
      "cell_type": "code",
      "metadata": {
        "id": "Y-iH0x5ygpNg",
        "colab_type": "code",
        "outputId": "7cf97029-7330-40e8-9ff1-2effff1485c4",
        "colab": {
          "base_uri": "https://localhost:8080/",
          "height": 34
        }
      },
      "source": [
        "re.search('[^A-Za-z\\s,]+',s).group()"
      ],
      "execution_count": 0,
      "outputs": [
        {
          "output_type": "execute_result",
          "data": {
            "text/plain": [
              "'...'"
            ]
          },
          "metadata": {
            "tags": []
          },
          "execution_count": 49
        }
      ]
    },
    {
      "cell_type": "code",
      "metadata": {
        "id": "e4OXtVAxg6vy",
        "colab_type": "code",
        "outputId": "28afa308-7c7c-4a00-9637-037c49ac6c48",
        "colab": {
          "base_uri": "https://localhost:8080/",
          "height": 34
        }
      },
      "source": [
        "re.findall('[^A-Z]+',s)"
      ],
      "execution_count": 0,
      "outputs": [
        {
          "output_type": "execute_result",
          "data": {
            "text/plain": [
              "[', ', 'here, ', 'ow, ', 're, ', 'ou...']"
            ]
          },
          "metadata": {
            "tags": []
          },
          "execution_count": 50
        }
      ]
    },
    {
      "cell_type": "markdown",
      "metadata": {
        "id": "YyhlP_juh3tc",
        "colab_type": "text"
      },
      "source": [
        "**Groups**"
      ]
    },
    {
      "cell_type": "code",
      "metadata": {
        "id": "M_Ne8Pskhg8e",
        "colab_type": "code",
        "colab": {}
      },
      "source": [
        "#groups allow us to pull out section of a match and store them"
      ],
      "execution_count": 0,
      "outputs": []
    },
    {
      "cell_type": "code",
      "metadata": {
        "id": "uTE08UD5iJF0",
        "colab_type": "code",
        "colab": {}
      },
      "source": [
        "import re\n",
        "s='John has 6 cats but i think my friend Susan has 3 dogs and Mike has 8 friends'\n"
      ],
      "execution_count": 0,
      "outputs": []
    },
    {
      "cell_type": "code",
      "metadata": {
        "id": "EdCEq-5XkJVZ",
        "colab_type": "code",
        "outputId": "93930a4b-a9ab-4539-d9b2-dc6efb6c40b1",
        "colab": {
          "base_uri": "https://localhost:8080/",
          "height": 34
        }
      },
      "source": [
        "re.findall('[A-Za-z]+ \\w+ \\d+ \\w+',s)"
      ],
      "execution_count": 0,
      "outputs": [
        {
          "output_type": "execute_result",
          "data": {
            "text/plain": [
              "['John has 6 cats', 'Susan has 3 dogs', 'Mike has 8 friends']"
            ]
          },
          "metadata": {
            "tags": []
          },
          "execution_count": 2
        }
      ]
    },
    {
      "cell_type": "code",
      "metadata": {
        "id": "tYBNvGRukRXC",
        "colab_type": "code",
        "outputId": "058eed9e-16a6-4882-c0de-2301bb207390",
        "colab": {
          "base_uri": "https://localhost:8080/",
          "height": 34
        }
      },
      "source": [
        "re.findall('([A-Za-z]+) \\w+ \\d+ \\w+',s)"
      ],
      "execution_count": 0,
      "outputs": [
        {
          "output_type": "execute_result",
          "data": {
            "text/plain": [
              "['John', 'Susan', 'Mike']"
            ]
          },
          "metadata": {
            "tags": []
          },
          "execution_count": 3
        }
      ]
    },
    {
      "cell_type": "code",
      "metadata": {
        "id": "_-fmd6KylSCe",
        "colab_type": "code",
        "colab": {}
      },
      "source": [
        "info=re.findall('([A-Za-z]+) \\w+ (\\d+) (\\w+)',s)"
      ],
      "execution_count": 0,
      "outputs": []
    },
    {
      "cell_type": "code",
      "metadata": {
        "id": "cTjq2Dxjm-oF",
        "colab_type": "code",
        "outputId": "58631dac-e2c4-4226-89ec-7673173cce81",
        "colab": {
          "base_uri": "https://localhost:8080/",
          "height": 34
        }
      },
      "source": [
        "info"
      ],
      "execution_count": 0,
      "outputs": [
        {
          "output_type": "execute_result",
          "data": {
            "text/plain": [
              "[('John', '6', 'cats'), ('Susan', '3', 'dogs'), ('Mike', '8', 'friends')]"
            ]
          },
          "metadata": {
            "tags": []
          },
          "execution_count": 5
        }
      ]
    },
    {
      "cell_type": "code",
      "metadata": {
        "id": "_Y3ats7gnEFw",
        "colab_type": "code",
        "outputId": "2cfa4161-203d-4be3-a0ec-09462c8e5c65",
        "colab": {
          "base_uri": "https://localhost:8080/",
          "height": 34
        }
      },
      "source": [
        "list(zip(*info))"
      ],
      "execution_count": 0,
      "outputs": [
        {
          "output_type": "execute_result",
          "data": {
            "text/plain": [
              "[('John', 'Susan', 'Mike'), ('6', '3', '8'), ('cats', 'dogs', 'friends')]"
            ]
          },
          "metadata": {
            "tags": []
          },
          "execution_count": 6
        }
      ]
    },
    {
      "cell_type": "code",
      "metadata": {
        "id": "P2J0IF9lnHe4",
        "colab_type": "code",
        "colab": {}
      },
      "source": [
        "match=re.search('([A-Za-z]+) \\w+ (\\d+) (\\w+)',s)"
      ],
      "execution_count": 0,
      "outputs": []
    },
    {
      "cell_type": "code",
      "metadata": {
        "id": "7VwNJSARoNzD",
        "colab_type": "code",
        "outputId": "3c18713b-2ad3-40b8-a04d-375e9d2847dd",
        "colab": {
          "base_uri": "https://localhost:8080/",
          "height": 34
        }
      },
      "source": [
        "match.group()"
      ],
      "execution_count": 0,
      "outputs": [
        {
          "output_type": "execute_result",
          "data": {
            "text/plain": [
              "'John has 6 cats'"
            ]
          },
          "metadata": {
            "tags": []
          },
          "execution_count": 8
        }
      ]
    },
    {
      "cell_type": "code",
      "metadata": {
        "id": "k2Kn4PnEoQZv",
        "colab_type": "code",
        "outputId": "138ea06e-8eb2-40b1-8a4b-9085855fa230",
        "colab": {
          "base_uri": "https://localhost:8080/",
          "height": 34
        }
      },
      "source": [
        "match.groups()"
      ],
      "execution_count": 0,
      "outputs": [
        {
          "output_type": "execute_result",
          "data": {
            "text/plain": [
              "('John', '6', 'cats')"
            ]
          },
          "metadata": {
            "tags": []
          },
          "execution_count": 9
        }
      ]
    },
    {
      "cell_type": "code",
      "metadata": {
        "id": "1FRZl8JRoTD3",
        "colab_type": "code",
        "outputId": "901ee854-91de-4d4c-a5b6-5ecb9576aab4",
        "colab": {
          "base_uri": "https://localhost:8080/",
          "height": 34
        }
      },
      "source": [
        "match.group(2)"
      ],
      "execution_count": 0,
      "outputs": [
        {
          "output_type": "execute_result",
          "data": {
            "text/plain": [
              "'6'"
            ]
          },
          "metadata": {
            "tags": []
          },
          "execution_count": 10
        }
      ]
    },
    {
      "cell_type": "code",
      "metadata": {
        "id": "i0rDO_tHoWD6",
        "colab_type": "code",
        "outputId": "c2489780-d604-4990-9db8-943476aed4f4",
        "colab": {
          "base_uri": "https://localhost:8080/",
          "height": 34
        }
      },
      "source": [
        "match.span()"
      ],
      "execution_count": 0,
      "outputs": [
        {
          "output_type": "execute_result",
          "data": {
            "text/plain": [
              "(0, 15)"
            ]
          },
          "metadata": {
            "tags": []
          },
          "execution_count": 11
        }
      ]
    },
    {
      "cell_type": "code",
      "metadata": {
        "id": "3drJoZMUoiEY",
        "colab_type": "code",
        "outputId": "36a58ba8-c7eb-4b7b-8c0e-24aa7e9d1d53",
        "colab": {
          "base_uri": "https://localhost:8080/",
          "height": 34
        }
      },
      "source": [
        "match.start()"
      ],
      "execution_count": 0,
      "outputs": [
        {
          "output_type": "execute_result",
          "data": {
            "text/plain": [
              "0"
            ]
          },
          "metadata": {
            "tags": []
          },
          "execution_count": 12
        }
      ]
    },
    {
      "cell_type": "code",
      "metadata": {
        "id": "O8x8f2ZtolBw",
        "colab_type": "code",
        "outputId": "0e9b1bfc-8e76-4491-d6ba-89562f40dfdd",
        "colab": {
          "base_uri": "https://localhost:8080/",
          "height": 34
        }
      },
      "source": [
        "match.end()"
      ],
      "execution_count": 0,
      "outputs": [
        {
          "output_type": "execute_result",
          "data": {
            "text/plain": [
              "15"
            ]
          },
          "metadata": {
            "tags": []
          },
          "execution_count": 13
        }
      ]
    },
    {
      "cell_type": "code",
      "metadata": {
        "id": "vSnU_j_2omn6",
        "colab_type": "code",
        "colab": {}
      },
      "source": [
        "data=re.findall('(([A-Za-z]+) \\w+ (\\d+) (\\w+))',s)"
      ],
      "execution_count": 0,
      "outputs": []
    },
    {
      "cell_type": "code",
      "metadata": {
        "id": "KYWWMNd8dm_B",
        "colab_type": "code",
        "outputId": "81fcdb89-e4d5-423f-a049-28dcfaa0f93e",
        "colab": {
          "base_uri": "https://localhost:8080/",
          "height": 70
        }
      },
      "source": [
        "data"
      ],
      "execution_count": 0,
      "outputs": [
        {
          "output_type": "execute_result",
          "data": {
            "text/plain": [
              "[('John has 6 cats', 'John', '6', 'cats'),\n",
              " ('Susan has 3 dogs', 'Susan', '3', 'dogs'),\n",
              " ('Mike has 8 friends', 'Mike', '8', 'friends')]"
            ]
          },
          "metadata": {
            "tags": []
          },
          "execution_count": 21
        }
      ]
    },
    {
      "cell_type": "code",
      "metadata": {
        "id": "3QshllcQdoav",
        "colab_type": "code",
        "colab": {}
      },
      "source": [
        "it=re.finditer('([A-Za-z]+) \\w+ (\\d+) (\\w+)',s)"
      ],
      "execution_count": 0,
      "outputs": []
    },
    {
      "cell_type": "code",
      "metadata": {
        "id": "MtIp_3HbedVd",
        "colab_type": "code",
        "outputId": "a7e303e3-06d9-4318-f1d3-848cc209ca86",
        "colab": {
          "base_uri": "https://localhost:8080/",
          "height": 34
        }
      },
      "source": [
        "next(it).group()"
      ],
      "execution_count": 0,
      "outputs": [
        {
          "output_type": "execute_result",
          "data": {
            "text/plain": [
              "'John has 6 cats'"
            ]
          },
          "metadata": {
            "tags": []
          },
          "execution_count": 23
        }
      ]
    },
    {
      "cell_type": "code",
      "metadata": {
        "id": "oByGzCSregPA",
        "colab_type": "code",
        "colab": {}
      },
      "source": [
        "next(it).group()"
      ],
      "execution_count": 0,
      "outputs": []
    },
    {
      "cell_type": "code",
      "metadata": {
        "id": "Y9XjQtXSekFy",
        "colab_type": "code",
        "outputId": "5624d601-0128-44e7-ef42-6b331202939f",
        "colab": {
          "base_uri": "https://localhost:8080/",
          "height": 70
        }
      },
      "source": [
        "for element in it:\n",
        "  print(element.group(1,3,2))"
      ],
      "execution_count": 0,
      "outputs": [
        {
          "output_type": "stream",
          "text": [
            "('John', 'cats', '6')\n",
            "('Susan', 'dogs', '3')\n",
            "('Mike', 'friends', '8')\n"
          ],
          "name": "stdout"
        }
      ]
    },
    {
      "cell_type": "code",
      "metadata": {
        "id": "QaPB0ntWetMV",
        "colab_type": "code",
        "colab": {}
      },
      "source": [
        "import re\n",
        "s=\"\"\"U.S. stock-index futures pointed\n",
        "to a solidly higher open on Monday,\n",
        "indicating that major\n",
        "benchmarks were pointed to USA reboundfrom last week's sharp decline,\n",
        "\\nwhich represented their biggest weekly drops in months.\"\"\""
      ],
      "execution_count": 0,
      "outputs": []
    },
    {
      "cell_type": "code",
      "metadata": {
        "id": "PetAO6JDiHEb",
        "colab_type": "code",
        "outputId": "fd227c2c-d045-4ebc-b5f3-7f60fce36227",
        "colab": {
          "base_uri": "https://localhost:8080/",
          "height": 54
        }
      },
      "source": [
        "re.sub('U.S.|US|USA','United States',s)"
      ],
      "execution_count": 0,
      "outputs": [
        {
          "output_type": "execute_result",
          "data": {
            "text/plain": [
              "\"United States stock-index futures pointed\\nto a solidly higher open on Monday,\\nindicating that major\\nbenchmarks were pointed to United StatesA reboundfrom last week's sharp decline,\\n\\nwhich represented their biggest weekly drops in months.\""
            ]
          },
          "metadata": {
            "tags": []
          },
          "execution_count": 34
        }
      ]
    },
    {
      "cell_type": "code",
      "metadata": {
        "id": "WZSiWarykVU1",
        "colab_type": "code",
        "colab": {}
      },
      "source": [
        ""
      ],
      "execution_count": 0,
      "outputs": []
    },
    {
      "cell_type": "code",
      "metadata": {
        "id": "1QgkqzsA5p86",
        "colab_type": "code",
        "outputId": "700333ab-c3cd-4527-f262-b2ef3314f88f",
        "colab": {
          "base_uri": "https://localhost:8080/",
          "height": 70
        }
      },
      "source": [
        "coin=list(map(int,input().split()))\n",
        "m=int(input())\n",
        "n=len(coin)\n",
        "l=[[0 for _ in range(m+1)] for i in range(n+1)]\n",
        "for i in range(m+1):\n",
        "  if i>=coin[0]:\n",
        "    l[0][i]=1\n",
        "\n",
        "print(l)"
      ],
      "execution_count": 0,
      "outputs": [
        {
          "output_type": "stream",
          "text": [
            "2 3 5\n",
            "5\n",
            "[[0, 0, 1, 1, 1, 1], [0, 0, 0, 0, 0, 0], [0, 0, 0, 0, 0, 0]]\n"
          ],
          "name": "stdout"
        }
      ]
    },
    {
      "cell_type": "code",
      "metadata": {
        "id": "HEXZPPOc7lxP",
        "colab_type": "code",
        "outputId": "8871e6d5-1a45-4af7-ac3c-69cbf5f0f5aa",
        "colab": {
          "base_uri": "https://localhost:8080/",
          "height": 70
        }
      },
      "source": [
        "amt,n=map(int,input().split())\n",
        "coins=list(map(int,input().split()))\n",
        "dp=[[0 for _ in range(amt+1)] for __ in range(n+1)]\n",
        "for i in range(n+1):\n",
        "  dp[i][0]=1\n",
        "for i in range(1,amt+1):\n",
        "  dp[0][i]=0\n",
        "for i in range(1,n+1):\n",
        "  for j in range(1,amt+1):\n",
        "    if coins[i-1]>j:\n",
        "      dp[i][j]=dp[i-1][j]\n",
        "    else:\n",
        "      dp[i][j]=dp[i-1][j]+dp[i][j-coins[i-1]]\n",
        "print(dp[n][amt])"
      ],
      "execution_count": 0,
      "outputs": [
        {
          "output_type": "stream",
          "text": [
            "2 3 5 10\n",
            "15\n",
            "9\n"
          ],
          "name": "stdout"
        }
      ]
    },
    {
      "cell_type": "code",
      "metadata": {
        "id": "4kfdjqJPWjfq",
        "colab_type": "code",
        "colab": {}
      },
      "source": [
        "#Coin change-minimum number of coins:\n",
        "\n",
        "amt,n=map(int,input().split())\n",
        "coins=list(map(int,input().split()))\n",
        "dp=[amt+1 for _ in range(amt+1)]\n",
        "dp[0]=0\n",
        "for i in range(1,amt+1):\n",
        "  for j in range(n):\n",
        "    if coins[j]<=i:\n",
        "      dp[i]=min(dp[i],1+dp[i-coins[j]])\n",
        "return dp[amt+1]==amt+1?-1:dp[amt]"
      ],
      "execution_count": 0,
      "outputs": []
    },
    {
      "cell_type": "code",
      "metadata": {
        "id": "iw_UJT-h3sC0",
        "colab_type": "code",
        "outputId": "b1b21a87-abc0-4c71-e6ae-395468cb642b",
        "colab": {
          "base_uri": "https://localhost:8080/",
          "height": 34
        }
      },
      "source": [
        "#DSA-Exer-24\n",
        "\n",
        "def make_change(denomination_list, amount):\n",
        "    '''Remove pass and implement the Greedy approach to make the change for the amount using the currencies in the denomination list.\n",
        "    The function should return the total number of notes needed to make the change. If change cannot be obtained for the given amount, then return -1. Return 1 if the amount is equal to one of the currencies available in the denomination list.  '''\n",
        "    denomination_list=sorted(denomination_list,reverse=True)\n",
        "    while not(amount<=0):\n",
        "        flag=False\n",
        "        for i in denomination_list:\n",
        "            if i<=amount:\n",
        "                flag=True\n",
        "                amount-=i\n",
        "                break\n",
        "        if flag==False:\n",
        "          break\n",
        "    if amount==0:\n",
        "        return 1 \n",
        "    else:\n",
        "        return -1\n",
        "        \n",
        "\n",
        "#Pass different values to the function and test your program\n",
        "amount= 20\n",
        "denomination_list = [15,10,1]\n",
        "print(make_change(denomination_list, amount))\n"
      ],
      "execution_count": 0,
      "outputs": [
        {
          "output_type": "stream",
          "text": [
            "1\n"
          ],
          "name": "stdout"
        }
      ]
    },
    {
      "cell_type": "code",
      "metadata": {
        "id": "XnslCr6CBBmG",
        "colab_type": "code",
        "outputId": "e69a1d9d-0dd4-49e5-fd53-e50b48597af8",
        "colab": {
          "base_uri": "https://localhost:8080/",
          "height": 123
        }
      },
      "source": [
        "#DSA-Exer-25\n",
        "\n",
        "def find_maximum_activities(activity_list,start_time_list, finish_time_list):\n",
        "    #Remove pass and write your logic here\n",
        "    n=len(finish_time_list)\n",
        "    for i in range(n-1):\n",
        "        flag=False\n",
        "        for j in range(0,n-i-1):\n",
        "            if finish_time_list[j]>finish_time_list[j+1]:\n",
        "                finish_time_list[j],finish_time_list[j+1]=finish_time_list[j+1],finish_time_list[j]\n",
        "                start_time_list[j],start_time_list[j+1]=start_time_list[j+1],start_time_list[j]\n",
        "                activity_list[j],activity_list[j+1]=activity_list[j+1],activity_list[j]\n",
        "                flag=True\n",
        "        if flag==False:\n",
        "            break\n",
        "    print(finish_time_list)\n",
        "    print(start_time_list)\n",
        "    l=[]\n",
        "    x=finish_time_list[0] \n",
        "    l.append(activity_list[0])\n",
        "    for j in range(1,len(finish_time_list)):\n",
        "        if start_time_list[j]>=x+1:\n",
        "            l.append(activity_list[j])\n",
        "            x=finish_time_list[j]\n",
        "        continue\n",
        "    return l\n",
        "        \n",
        "                \n",
        "\n",
        "#Pass different values to the function and test your program\n",
        "activity_list=[11,12,32,44,53,62]\n",
        "start_time_list=[12,14,21,31,16,18]\n",
        "finish_time_list=[20,16,25,35,17,20]\n",
        "\n",
        "print(\"Activities:\",activity_list)\n",
        "print(\"Start time of the activities:\",start_time_list)\n",
        "print(\"Finishing time of the activities:\", finish_time_list)\n",
        "\n",
        "result=find_maximum_activities(activity_list,start_time_list, finish_time_list)\n",
        "print(\"The maximum set of activities that can be completed:\",result)"
      ],
      "execution_count": 0,
      "outputs": [
        {
          "output_type": "stream",
          "text": [
            "Activities: [11, 12, 32, 44, 53, 62]\n",
            "Start time of the activities: [12, 14, 21, 31, 16, 18]\n",
            "Finishing time of the activities: [20, 16, 25, 35, 17, 20]\n",
            "[16, 17, 20, 20, 25, 35]\n",
            "[14, 16, 12, 18, 21, 31]\n",
            "The maximum set of activities that can be completed: [12, 62, 32, 44]\n"
          ],
          "name": "stdout"
        }
      ]
    },
    {
      "cell_type": "code",
      "metadata": {
        "id": "A9vbuszfMXFM",
        "colab_type": "code",
        "outputId": "cbc7d5fa-8009-4b67-88dc-68f4d2a70e44",
        "colab": {
          "base_uri": "https://localhost:8080/",
          "height": 70
        }
      },
      "source": [
        "s1=input()\n",
        "s2=input()\n",
        "n=len(s1)\n",
        "m=len(s2)\n",
        "dp=[[0 for _ in range(m+1)] for __ in range(n+1)]\n",
        "for i in range(1,n+1):\n",
        "  for j in range(1,m+1):\n",
        "    if s1[i-1]==s2[j-1]:\n",
        "      dp[i][j]=dp[i-1][j-1]+1\n",
        "    else:\n",
        "      dp[i][j]=max(dp[i-1][j],dp[i][j-1])\n",
        "print(dp[n][m])\n"
      ],
      "execution_count": 0,
      "outputs": [
        {
          "output_type": "stream",
          "text": [
            "ankita\n",
            "amita\n",
            "4\n"
          ],
          "name": "stdout"
        }
      ]
    },
    {
      "cell_type": "code",
      "metadata": {
        "id": "4AmGrxsnbFwK",
        "colab_type": "code",
        "outputId": "b59b052e-633f-464f-a192-06b97f069128",
        "colab": {
          "base_uri": "https://localhost:8080/",
          "height": 52
        }
      },
      "source": [
        "#Longest Non Decreasing Subsequence\n",
        "\n",
        "nums=list(map(int,input().split()))\n",
        "n=len(nums)\n",
        "dp=[1 for _ in range(n)]\n",
        "for j in range(1,n):\n",
        "  for i in range(0,j):\n",
        "    if nums[i]<nums[j]:\n",
        "      dp[j]=max(dp[j],1+dp[i])\n",
        "print(max(dp))"
      ],
      "execution_count": 0,
      "outputs": [
        {
          "output_type": "stream",
          "text": [
            "1 3 6 7 9 4 10 5 6\n",
            "6\n"
          ],
          "name": "stdout"
        }
      ]
    },
    {
      "cell_type": "code",
      "metadata": {
        "id": "FKDN7jRnbvGi",
        "colab_type": "code",
        "outputId": "2151dff4-2687-426d-ee39-2d33a741a76e",
        "colab": {
          "base_uri": "https://localhost:8080/",
          "height": 70
        }
      },
      "source": [
        "#DSA-Assgn-25\n",
        "\n",
        "def find_number_of_platforms(arrival_time_list,departure_time_list):\n",
        "    #Remove pass and test your program\n",
        "    n=len(departure_time_list)\n",
        "    for i in range(n-1):\n",
        "        flag=False\n",
        "        for j in range(0,n-i-1):\n",
        "            if departure_time_list[j]>departure_time_list[j+1]:\n",
        "                departure_time_list[j],departure_time_list[j+1]=departure_time_list[j+1],departure_time_list[j]\n",
        "                arrival_time_list[j],arrival_time_list[j+1]=arrival_time_list[j+1],arrival_time_list[j]\n",
        "                flag=True\n",
        "        if flag==False:\n",
        "            break\n",
        "        print(departure_time_list)\n",
        "        print(arrival_time_list)\n",
        "        l=[]\n",
        "        x=departure_time_list[0] \n",
        "        l.append(arrival_time_list[0])\n",
        "        for j in range(1,len(departure_time_list)):\n",
        "            if arrival_time_list[j]>=x:\n",
        "                l.append(arrival_time_list[j])\n",
        "                x=departure_time_list[j]\n",
        "                continue\n",
        "        print(l)\n",
        "        return n-len(l)+1\n",
        "\n",
        "#Pass different values to the function and test your program\n",
        "arrival_time_list = [900,740,1200,810,1400,800]\n",
        "departure_time_list = [1200,1349,1500,2000,2120,2300]\n",
        "print(\"The arrival time of the trains:\", arrival_time_list)\n",
        "print(\"The departure time of the trains:\",departure_time_list)\n",
        "print(\"Minimum number of platforms required :\",find_number_of_platforms(arrival_time_list,departure_time_list))"
      ],
      "execution_count": 0,
      "outputs": [
        {
          "output_type": "stream",
          "text": [
            "The arrival time of the trains: [900, 740, 1200, 810, 1400, 800]\n",
            "The departure time of the trains: [1200, 1349, 1500, 2000, 2120, 2300]\n",
            "Minimum number of platforms required : None\n"
          ],
          "name": "stdout"
        }
      ]
    },
    {
      "cell_type": "code",
      "metadata": {
        "id": "6ChL8CdmnrDe",
        "colab_type": "code",
        "colab": {}
      },
      "source": [
        "def bubble(arrival_time_list,departure_time_list):\n",
        "  n=len(departure_time_list)\n",
        "  for i in range(n-1):\n",
        "    flag=False\n",
        "    for j in range(0,n-i-1):\n",
        "      if departure_time_list[j]>departure_time_list[j+1]:\n",
        "        departure_time_list[j],departure_time_list[j+1]=departure_time_list[j+1],departure_time_list[j]\n",
        "        arrival_time_list[j],arrival_time_list[j+1]=arrival_time_list[j+1],arrival_time_list[j]\n",
        "        flag=True\n",
        "      if flag==False:\n",
        "        break\n",
        "  return departure_time_list,arrival_time_list\n"
      ],
      "execution_count": 0,
      "outputs": []
    },
    {
      "cell_type": "code",
      "metadata": {
        "id": "T7-EdW04oCkL",
        "colab_type": "code",
        "outputId": "00e03e66-29e2-4988-9f57-700bdc09768d",
        "colab": {
          "base_uri": "https://localhost:8080/",
          "height": 34
        }
      },
      "source": [
        "bubble([940, 1010, 300, 830, 720, 1400],[1000, 1500, 440, 840, 930, 1540])"
      ],
      "execution_count": 0,
      "outputs": [
        {
          "output_type": "execute_result",
          "data": {
            "text/plain": [
              "([1000, 1500, 440, 840, 930, 1540], [940, 1010, 300, 830, 720, 1400])"
            ]
          },
          "metadata": {
            "tags": []
          },
          "execution_count": 46
        }
      ]
    },
    {
      "cell_type": "code",
      "metadata": {
        "id": "IrsoW_khqYTf",
        "colab_type": "code",
        "colab": {}
      },
      "source": [
        "arrival_time_list = [940, 1010, 300, 830, 720, 1400]\n",
        "departure_time_list = [1000, 1500, 440, 840, 930, 1540]"
      ],
      "execution_count": 0,
      "outputs": []
    },
    {
      "cell_type": "code",
      "metadata": {
        "id": "yxQFJAJPok2o",
        "colab_type": "code",
        "colab": {}
      },
      "source": [
        "def find_number_of_platforms(arrival_time_list,departure_time_list):\n",
        "  a=bubble(arrival_time_list,departure_time_list)\n",
        "  arrival_time_list=[300,830,720,940,1010,1400]\n",
        "  departure_time_list=[440,840,930,1000,1500,1540]\n",
        "  n=len(departure_time_list)\n",
        "  m,h=[],[]\n",
        "  for i in range(n-1):\n",
        "    l=[]\n",
        "    if arrival_time_list[i] not in h:\n",
        "      l.append(arrival_time_list[i])\n",
        "    else:\n",
        "      continue\n",
        "    x=departure_time_list[i]\n",
        "    for j in range(i+1,n):\n",
        "      if arrival_time_list[j]>=x and arrival_time_list[j] not in h:\n",
        "        l.append(arrival_time_list[j])\n",
        "        x=departure_time_list[j]\n",
        "    h.extend(l)\n",
        "    m.append(l)\n",
        "  print(m)"
      ],
      "execution_count": 0,
      "outputs": []
    },
    {
      "cell_type": "code",
      "metadata": {
        "id": "nc4mrkMqqeTL",
        "colab_type": "code",
        "outputId": "3cbac8b5-3d46-4fb8-aee4-206d3b5b1647",
        "colab": {
          "base_uri": "https://localhost:8080/",
          "height": 34
        }
      },
      "source": [
        "find_number_of_platforms(arrival_time_list,departure_time_list)"
      ],
      "execution_count": 0,
      "outputs": [
        {
          "output_type": "stream",
          "text": [
            "[[300, 830, 940, 1010], [720, 1400]]\n"
          ],
          "name": "stdout"
        }
      ]
    },
    {
      "cell_type": "code",
      "metadata": {
        "id": "x2mckVAaqm97",
        "colab_type": "code",
        "colab": {}
      },
      "source": [
        "list([200,300,100].__getitem__)"
      ],
      "execution_count": 0,
      "outputs": []
    },
    {
      "cell_type": "code",
      "metadata": {
        "id": "3XpO-3LYtSUn",
        "colab_type": "code",
        "outputId": "c6152fad-fa2d-4523-f324-5efe92a47858",
        "colab": {
          "base_uri": "https://localhost:8080/",
          "height": 34
        }
      },
      "source": [
        "import re\n",
        "s='we are humans'\n",
        "matched = re.match(r'(.*) (.*?) (.*)', s)\n",
        "print(matched.groups())"
      ],
      "execution_count": 0,
      "outputs": [
        {
          "output_type": "stream",
          "text": [
            "('we', 'are', 'humans')\n"
          ],
          "name": "stdout"
        }
      ]
    },
    {
      "cell_type": "code",
      "metadata": {
        "id": "NlLuLnfPwoHn",
        "colab_type": "code",
        "outputId": "1d500b52-3538-494a-a620-34cf97b130dd",
        "colab": {
          "base_uri": "https://localhost:8080/",
          "height": 34
        }
      },
      "source": [
        "a=[10,20,40,60,80,70]\n",
        "a.insert(len(a)-1,2)\n",
        "print(a)"
      ],
      "execution_count": 0,
      "outputs": [
        {
          "output_type": "stream",
          "text": [
            "[10, 20, 40, 60, 80, 2, 70]\n"
          ],
          "name": "stdout"
        }
      ]
    },
    {
      "cell_type": "code",
      "metadata": {
        "id": "vUMvOtKfyGTs",
        "colab_type": "code",
        "outputId": "e0f999ad-b6a1-4cae-c016-a627f3e52736",
        "colab": {
          "base_uri": "https://localhost:8080/",
          "height": 34
        }
      },
      "source": [
        "a"
      ],
      "execution_count": 0,
      "outputs": [
        {
          "output_type": "execute_result",
          "data": {
            "text/plain": [
              "[10, 20, 40, 80]"
            ]
          },
          "metadata": {
            "tags": []
          },
          "execution_count": 19
        }
      ]
    },
    {
      "cell_type": "code",
      "metadata": {
        "id": "zjJNVA2hzXlI",
        "colab_type": "code",
        "colab": {}
      },
      "source": [
        "del a[0:2]"
      ],
      "execution_count": 0,
      "outputs": []
    },
    {
      "cell_type": "code",
      "metadata": {
        "id": "4oJlYOsVzakE",
        "colab_type": "code",
        "outputId": "fce0bd23-6e46-4d75-bd40-6ba97e15184f",
        "colab": {
          "base_uri": "https://localhost:8080/",
          "height": 34
        }
      },
      "source": [
        "a"
      ],
      "execution_count": 0,
      "outputs": [
        {
          "output_type": "execute_result",
          "data": {
            "text/plain": [
              "[40, 80]"
            ]
          },
          "metadata": {
            "tags": []
          },
          "execution_count": 21
        }
      ]
    },
    {
      "cell_type": "code",
      "metadata": {
        "id": "LHHIWkZyzbOW",
        "colab_type": "code",
        "colab": {}
      },
      "source": [
        "del a[-1]"
      ],
      "execution_count": 0,
      "outputs": []
    },
    {
      "cell_type": "code",
      "metadata": {
        "id": "F8Ddy2rSzdg4",
        "colab_type": "code",
        "outputId": "a596c5ba-f1a8-496d-b19a-84c6a3f3d52c",
        "colab": {
          "base_uri": "https://localhost:8080/",
          "height": 34
        }
      },
      "source": [
        "a"
      ],
      "execution_count": 0,
      "outputs": [
        {
          "output_type": "execute_result",
          "data": {
            "text/plain": [
              "[40]"
            ]
          },
          "metadata": {
            "tags": []
          },
          "execution_count": 23
        }
      ]
    },
    {
      "cell_type": "code",
      "metadata": {
        "id": "a_hWuTXyzeSp",
        "colab_type": "code",
        "outputId": "5eff1504-23ed-416b-eaf2-7ff61119a87e",
        "colab": {
          "base_uri": "https://localhost:8080/",
          "height": 34
        }
      },
      "source": [
        "a"
      ],
      "execution_count": 0,
      "outputs": [
        {
          "output_type": "execute_result",
          "data": {
            "text/plain": [
              "[]"
            ]
          },
          "metadata": {
            "tags": []
          },
          "execution_count": 26
        }
      ]
    },
    {
      "cell_type": "code",
      "metadata": {
        "id": "-OlGxphvzioa",
        "colab_type": "code",
        "colab": {}
      },
      "source": [
        "t=(1,2,3)\n",
        "t=t+(4,5,6)\n",
        "t[0]=3"
      ],
      "execution_count": 0,
      "outputs": []
    },
    {
      "cell_type": "code",
      "metadata": {
        "id": "Hh4wjxUD8UG4",
        "colab_type": "code",
        "outputId": "c92eff22-f42b-423b-894a-6818eee4f36c",
        "colab": {
          "base_uri": "https://localhost:8080/",
          "height": 34
        }
      },
      "source": [
        "t=([1,2,3],[4,5,6])\n",
        "t[0][2]=99\n",
        "t"
      ],
      "execution_count": 0,
      "outputs": [
        {
          "output_type": "execute_result",
          "data": {
            "text/plain": [
              "([1, 2, 99], [4, 5, 6])"
            ]
          },
          "metadata": {
            "tags": []
          },
          "execution_count": 35
        }
      ]
    },
    {
      "cell_type": "code",
      "metadata": {
        "id": "9sepTF0i9Cnz",
        "colab_type": "code",
        "colab": {}
      },
      "source": [
        "x,y=t"
      ],
      "execution_count": 0,
      "outputs": []
    },
    {
      "cell_type": "code",
      "metadata": {
        "id": "_cgS3a3Y9i7e",
        "colab_type": "code",
        "outputId": "72a01a73-ae27-4ec5-ffc7-159f79fd2eaa",
        "colab": {
          "base_uri": "https://localhost:8080/",
          "height": 34
        }
      },
      "source": [
        "x"
      ],
      "execution_count": 0,
      "outputs": [
        {
          "output_type": "execute_result",
          "data": {
            "text/plain": [
              "[1, 2, 99]"
            ]
          },
          "metadata": {
            "tags": []
          },
          "execution_count": 37
        }
      ]
    },
    {
      "cell_type": "code",
      "metadata": {
        "id": "CL3RDrC29kIz",
        "colab_type": "code",
        "outputId": "728ac5e3-93a4-43be-9b3c-4dcef1931c4e",
        "colab": {
          "base_uri": "https://localhost:8080/",
          "height": 34
        }
      },
      "source": [
        "y"
      ],
      "execution_count": 0,
      "outputs": [
        {
          "output_type": "execute_result",
          "data": {
            "text/plain": [
              "[4, 5, 6]"
            ]
          },
          "metadata": {
            "tags": []
          },
          "execution_count": 38
        }
      ]
    },
    {
      "cell_type": "code",
      "metadata": {
        "id": "HEOory0i9k_H",
        "colab_type": "code",
        "outputId": "672a789b-9c59-4ae1-c08d-14bf6cb7d645",
        "colab": {
          "base_uri": "https://localhost:8080/",
          "height": 34
        }
      },
      "source": [
        "s={'z','a','b','c','c','d','a','a'}\n",
        "s"
      ],
      "execution_count": 0,
      "outputs": [
        {
          "output_type": "execute_result",
          "data": {
            "text/plain": [
              "{'a', 'b', 'c', 'd', 'z'}"
            ]
          },
          "metadata": {
            "tags": []
          },
          "execution_count": 41
        }
      ]
    },
    {
      "cell_type": "code",
      "metadata": {
        "id": "b56qMAhk-a8x",
        "colab_type": "code",
        "colab": {}
      },
      "source": [
        "l1=[1,20]\n",
        "l2=[50,100]\n",
        "l1=l1+l2"
      ],
      "execution_count": 0,
      "outputs": []
    },
    {
      "cell_type": "code",
      "metadata": {
        "id": "mY5no4WnHj1q",
        "colab_type": "code",
        "outputId": "f0432a00-c5fe-453c-a8bf-faf0c2e2ae95",
        "colab": {
          "base_uri": "https://localhost:8080/",
          "height": 34
        }
      },
      "source": [
        "l1,l2"
      ],
      "execution_count": 0,
      "outputs": [
        {
          "output_type": "execute_result",
          "data": {
            "text/plain": [
              "([1, 20, 50, 100], [50, 100])"
            ]
          },
          "metadata": {
            "tags": []
          },
          "execution_count": 44
        }
      ]
    },
    {
      "cell_type": "code",
      "metadata": {
        "id": "2v-eQCjZHoQ_",
        "colab_type": "code",
        "outputId": "50b049de-36ee-4fba-b466-405cfdfa2b76",
        "colab": {
          "base_uri": "https://localhost:8080/",
          "height": 34
        }
      },
      "source": [
        "l=[0]*5\n",
        "l"
      ],
      "execution_count": 0,
      "outputs": [
        {
          "output_type": "execute_result",
          "data": {
            "text/plain": [
              "[0, 0, 0, 0, 0]"
            ]
          },
          "metadata": {
            "tags": []
          },
          "execution_count": 45
        }
      ]
    },
    {
      "cell_type": "code",
      "metadata": {
        "id": "YLB7nQ_lI-lE",
        "colab_type": "code",
        "colab": {}
      },
      "source": [
        "raise KeyboardInterrupt('Ab bol na Babu!!')"
      ],
      "execution_count": 0,
      "outputs": []
    },
    {
      "cell_type": "code",
      "metadata": {
        "id": "F5aa1tkWUD_j",
        "colab_type": "code",
        "outputId": "d6a08ba2-8950-4ba5-c4fa-52ae2ea89a4a",
        "colab": {
          "base_uri": "https://localhost:8080/",
          "height": 167
        }
      },
      "source": [
        "raise ZeroDivisionError(\"Cannot divide by zero!!\")"
      ],
      "execution_count": 0,
      "outputs": [
        {
          "output_type": "error",
          "ename": "ZeroDivisionError",
          "evalue": "ignored",
          "traceback": [
            "\u001b[0;31m---------------------------------------------------------------------------\u001b[0m",
            "\u001b[0;31mZeroDivisionError\u001b[0m                         Traceback (most recent call last)",
            "\u001b[0;32m<ipython-input-9-365c01f81506>\u001b[0m in \u001b[0;36m<module>\u001b[0;34m()\u001b[0m\n\u001b[0;32m----> 1\u001b[0;31m \u001b[0;32mraise\u001b[0m \u001b[0mZeroDivisionError\u001b[0m\u001b[0;34m(\u001b[0m\u001b[0;34m\"Cannot divide by zero!!\"\u001b[0m\u001b[0;34m)\u001b[0m\u001b[0;34m\u001b[0m\u001b[0;34m\u001b[0m\u001b[0m\n\u001b[0m",
            "\u001b[0;31mZeroDivisionError\u001b[0m: Cannot divide by zero!!"
          ]
        }
      ]
    },
    {
      "cell_type": "code",
      "metadata": {
        "id": "1lcF5JfOV0zV",
        "colab_type": "code",
        "outputId": "61668e26-66d6-46c0-8adb-9ec3a559e630",
        "colab": {
          "base_uri": "https://localhost:8080/",
          "height": 87
        }
      },
      "source": [
        "def func():\n",
        "  try:\n",
        "    a=5//0\n",
        "  except:\n",
        "    print('Saale! Aage dekh ab tere saath kya hota hai!!')\n",
        "    raise ZeroDivisionError('Ab bol na Bhaiya!!')\n",
        "  finally:\n",
        "    print('Ab!, Aaage jo hone wala hai na wo tu sapne m bhi nhi socha hoga!!')\n",
        "try:\n",
        "  func()\n",
        "except ZeroDivisionError:\n",
        "  print('DANGER!! ALERT!! BOOOOOOOOOOOOOOOOOOOOMMMMMMMMMMMMMMMM.....  ;)')\n",
        "finally:\n",
        "  print('Maaf krdo Bhaiya, ab aage s na hoga!! :( ')\n"
      ],
      "execution_count": 0,
      "outputs": [
        {
          "output_type": "stream",
          "text": [
            "Saale! Aage dekh ab tere saath kya hota hai!!\n",
            "Ab!, Aaage jo hone wala hai na wo tu sapne m bhi nhi socha hoga!!\n",
            "DANGER!! ALERT!! BOOOOOOOOOOOOOOOOOOOOMMMMMMMMMMMMMMMM.....  ;)\n",
            "Maaf krdo Bhaiya, ab aage s na hoga!! :( \n"
          ],
          "name": "stdout"
        }
      ]
    },
    {
      "cell_type": "code",
      "metadata": {
        "id": "yQd8dtbXXbIJ",
        "colab_type": "code",
        "outputId": "cd844345-5e19-4d80-f92b-c35783a4e50a",
        "colab": {
          "base_uri": "https://localhost:8080/",
          "height": 52
        }
      },
      "source": [
        "try:\n",
        "  raise KeyboardInterrupt\n",
        "except:\n",
        "  print('Handelled!! :)')\n",
        "finally:\n",
        "  print('Goodbye, world!')"
      ],
      "execution_count": 0,
      "outputs": [
        {
          "output_type": "stream",
          "text": [
            "Handelled!! :)\n",
            "Goodbye, world!\n"
          ],
          "name": "stdout"
        }
      ]
    },
    {
      "cell_type": "code",
      "metadata": {
        "id": "d2lwk8W0ZiG-",
        "colab_type": "code",
        "outputId": "b5600fa9-f762-4f9b-e4d1-773d898caca9",
        "colab": {
          "base_uri": "https://localhost:8080/",
          "height": 34
        }
      },
      "source": [
        "l,b=map(int,input().split())\n",
        "area=l*b \n",
        "s=min(l,b)\n",
        "while area!=0:\n",
        "  \n",
        "  sqr=n*n\n",
        "  no=area//sqr \n",
        "  area-=sqr*no\n",
        "  print(s,no)\n",
        "  m=max(m-n,n)\n",
        "  n=min(m-n,n)\n",
        "  "
      ],
      "execution_count": 0,
      "outputs": [
        {
          "output_type": "stream",
          "text": [
            "7 4\n"
          ],
          "name": "stdout"
        }
      ]
    },
    {
      "cell_type": "code",
      "metadata": {
        "id": "JqD8c-LosYWc",
        "colab_type": "code",
        "outputId": "40baf390-0bbc-452c-9930-d487fcb48d94",
        "colab": {
          "base_uri": "https://localhost:8080/",
          "height": 34
        }
      },
      "source": [
        "s=['a','B','c','D']\n",
        "s=list(map(lambda x:x.upper() if x.islower()  else  x.lower(),s))\n",
        "s=\"\".join(s)"
      ],
      "execution_count": 0,
      "outputs": [
        {
          "output_type": "execute_result",
          "data": {
            "text/plain": [
              "['A', 'b', 'C', 'd']"
            ]
          },
          "metadata": {
            "tags": []
          },
          "execution_count": 43
        }
      ]
    },
    {
      "cell_type": "code",
      "metadata": {
        "id": "r_y_-fjQkT5w",
        "colab_type": "code",
        "colab": {}
      },
      "source": [
        "def pattern1(day):\n",
        "  \n",
        "  row=day+1\n",
        "  d=1\n",
        "  for i in range(1,row+1):\n",
        "    print(\" \",end=\"\")\n",
        "    for j in range(row-i,-1,-1):\n",
        "      print(\"\",end=\" \")\n",
        "    for k in range(1,d+1):\n",
        "      print(\"*\",end=\"\")\n",
        "    print()\n",
        "    d=d+2\n",
        "def pattern2(day,sp):\n",
        "  row=day+1\n",
        "  d=3\n",
        "  for i in range(1,row+1):\n",
        "    print(\" \",end=\"\")\n",
        "    for j in range(row-i+sp,-1,-1):\n",
        "      print(\"\",end=\" \")\n",
        "    for k in range(1,d+1):\n",
        "      print(\"*\",end=\"\")\n",
        "    print()\n",
        "    d=d+2\n",
        "  "
      ],
      "execution_count": 0,
      "outputs": []
    },
    {
      "cell_type": "code",
      "metadata": {
        "id": "Rq5hgf1jgmjp",
        "colab_type": "code",
        "outputId": "cef3b0ad-c1bb-4e03-a9bd-652f7b194097",
        "colab": {
          "base_uri": "https://localhost:8080/",
          "height": 194
        }
      },
      "source": [
        "t=int(input())\n",
        "for _ in range(t):\n",
        "  n=int(input())\n",
        "  if (n<=1):\n",
        "    print(\"You cannot generate christmas tree\")\n",
        "  elif(n>20):\n",
        "    print(\"Tree is no more\")\n",
        "  else:\n",
        "    for i in range(1,n):\n",
        "      if i==1:\n",
        "        \n",
        "        pattern1(n)\n",
        "      elif i==2:\n",
        "        print(\" \",end=\"\")\n",
        "        pattern2(n-2,1)\n",
        "        x=n-2\n",
        "        sp=1\n",
        "      else:\n",
        "        sp+=1\n",
        "        pattern2(x-1,sp)\n",
        "        \n",
        "        x-=1\n",
        "    print(\" \"*n,end=\" \")\n",
        "    print(\"*\")\n",
        "    print(\" \"*n,end=\" \")\n",
        "    print(\"*\")\n"
      ],
      "execution_count": 0,
      "outputs": [
        {
          "output_type": "stream",
          "text": [
            "1\n",
            "3\n",
            "     *\n",
            "    ***\n",
            "   *****\n",
            "  *******\n",
            "     ***\n",
            "   *****\n",
            "    *\n",
            "    *\n"
          ],
          "name": "stdout"
        }
      ]
    },
    {
      "cell_type": "code",
      "metadata": {
        "id": "oN7dWVS7g2i1",
        "colab_type": "code",
        "outputId": "34f644c1-8a25-4d12-fbdd-9bdb3ee03bce",
        "colab": {
          "base_uri": "https://localhost:8080/",
          "height": 87
        }
      },
      "source": [
        "pattern2(3)"
      ],
      "execution_count": 0,
      "outputs": [
        {
          "output_type": "stream",
          "text": [
            "    ***\n",
            "   *****\n",
            "  *******\n",
            " *********\n"
          ],
          "name": "stdout"
        }
      ]
    },
    {
      "cell_type": "code",
      "metadata": {
        "id": "flocmgYiv9bj",
        "colab_type": "code",
        "outputId": "94be6a9b-6b23-443e-e2b4-a7ac2b6d5fa8",
        "colab": {
          "base_uri": "https://localhost:8080/",
          "height": 87
        }
      },
      "source": [
        "n=int(input())\n",
        "a=6\n",
        "diff=6\n",
        "l=[]\n",
        "for i in range(1,n+1):\n",
        "  for j in range(1,i+1):\n",
        "    l.append(a)\n",
        "    diff=diff+16\n",
        "    a=a+diff\n",
        "for i in range(len(l)):\n",
        "  x=len(str(l[i]))\n",
        "  l[i]=\"0\"*(5-x)+str(l[i])\n",
        "  \n",
        "d=0\n",
        "for i in range(1,n+1):\n",
        "  x=n-i\n",
        "  print(\" \"*(x),end=\"\")\n",
        "  for j in range(1,i+1):\n",
        "    print(l[d],end=\" \")\n",
        "    d+=1\n",
        "  print()"
      ],
      "execution_count": 0,
      "outputs": [
        {
          "output_type": "stream",
          "text": [
            "3\n",
            "  00006 \n",
            " 00028 00066 \n",
            "00120 00190 00276 \n"
          ],
          "name": "stdout"
        }
      ]
    },
    {
      "cell_type": "code",
      "metadata": {
        "id": "pAXfLthW2zSZ",
        "colab_type": "code",
        "colab": {}
      },
      "source": [
        ""
      ],
      "execution_count": 0,
      "outputs": []
    },
    {
      "cell_type": "code",
      "metadata": {
        "id": "KYE1hULjxnTg",
        "colab_type": "code",
        "outputId": "18db11ba-d16a-4d59-cbf5-4f5a4501b4cd",
        "colab": {
          "base_uri": "https://localhost:8080/",
          "height": 212
        }
      },
      "source": [
        "class Node:\n",
        "    def __init__(self,data):\n",
        "        self.__data=data\n",
        "        self.__next=None\n",
        "\n",
        "    def get_data(self):\n",
        "        return self.__data\n",
        "\n",
        "    def set_data(self,data):\n",
        "        self.__data=data\n",
        "\n",
        "    def get_next(self):\n",
        "        return self.__next\n",
        "\n",
        "    def set_next(self,next_node):\n",
        "        self.__next=next_node\n",
        "\n",
        "\n",
        "class LinkedList:\n",
        "    def __init__(self):\n",
        "        self.__head=None\n",
        "        self.__tail=None\n",
        "\n",
        "    def get_head(self):\n",
        "        return self.__head\n",
        "\n",
        "    def get_tail(self):\n",
        "        return self.__tail\n",
        "\n",
        "\n",
        "    def add(self,data):\n",
        "        new_node=Node(data)\n",
        "        if(self.__head is None):\n",
        "            self.__head=self.__tail=new_node\n",
        "        else:\n",
        "            self.__tail.set_next(new_node)\n",
        "            self.__tail=new_node\n",
        "\n",
        "    def insert(self,data,data_before):\n",
        "        new_node=Node(data)\n",
        "        if(data_before==None):\n",
        "            new_node.set_next(self.__head)\n",
        "            self.__head=new_node\n",
        "            if(new_node.get_next()==None):\n",
        "                self.__tail=new_node\n",
        "\n",
        "        else:\n",
        "            node_before=self.find_node(data_before)\n",
        "            if(node_before is not None):\n",
        "                new_node.set_next(node_before.get_next())\n",
        "                node_before.set_next(new_node)\n",
        "                if(new_node.get_next() is None):\n",
        "                    self.__tail=new_node\n",
        "            else:\n",
        "                print(data_before,\"is not present in the Linked list\")\n",
        "\n",
        "    def display(self):\n",
        "        temp=self.__head\n",
        "        while(temp is not None):\n",
        "            print(temp.get_data())\n",
        "            temp=temp.get_next()\n",
        "\n",
        "\n",
        "    def find_node(self,data):\n",
        "        temp=self.__head\n",
        "        while(temp is not None):\n",
        "            if(temp.get_data()==data):\n",
        "                return temp\n",
        "            temp=temp.get_next()\n",
        "        return None\n",
        "\n",
        "    def delete(self,data):\n",
        "        node=self.find_node(data)\n",
        "        if(node is not None):\n",
        "            if(node==self.__head):\n",
        "                if(self.__head==self.__tail):\n",
        "                    self.__tail=None\n",
        "                self.__head=node.get_next()\n",
        "            else:\n",
        "                temp=self.__head\n",
        "                while(temp is not None):\n",
        "                    if(temp.get_next()==node):\n",
        "                        temp.set_next(node.get_next())\n",
        "                        if(node==self.__tail):\n",
        "                            self.__tail=temp\n",
        "                        node.set_next(None)\n",
        "                        break\n",
        "                    temp=temp.get_next()\n",
        "        else:\n",
        "            print(data,\"is not present in Linked list\")\n",
        "\n",
        "    #You can use the below __str__() to print the elements of the DS object while debugging\n",
        "    def __str__(self):\n",
        "        temp=self.__head\n",
        "        msg=[]\n",
        "        while(temp is not None):\n",
        "            msg.append(str(temp.get_data()))\n",
        "            temp=temp.get_next()\n",
        "        msg=\" \".join(msg)\n",
        "        msg=\"Linkedlist data(Head to Tail): \"+ msg\n",
        "        return msg\n",
        "\n",
        "\n",
        "def fun(input_list1,input_list2):\n",
        "    temp1 = input_list1.get_head()\n",
        "    temp2 = input_list2.get_head()\n",
        "    output_queue = Queue(10)\n",
        "    while(temp1 != None and temp2 != None):\n",
        "        if(temp1.get_data() < temp2.get_data()):\n",
        "            output_queue.enqueue(temp1.get_data())\n",
        "            temp1 = temp1.get_next()\n",
        "        elif(temp1.get_data() > temp2.get_data()):\n",
        "            output_queue.enqueue(temp2.get_data())\n",
        "            temp2 = temp2.get_next()\n",
        "        else:\n",
        "            output_queue.enqueue(temp2.get_data())\n",
        "            temp1 = temp1.get_next()\n",
        "            temp2 = temp2.get_next()\n",
        "    while(temp1 != None):\n",
        "        output_queue.enqueue(temp1.get_data())\n",
        "        temp1 = temp1.get_next()\n",
        "    while(temp2 != None):\n",
        "        output_queue.enqueue(temp2.get_data())\n",
        "        temp2 = temp2.get_next()\n",
        "    return output_queue\n",
        "\n",
        "def func(head,num):\n",
        "  temp=head\n",
        "  if head==None:\n",
        "    return\n",
        "  else:\n",
        "    index=1\n",
        "  while (index<num):\n",
        "    val=temp.get_data()\n",
        "    temp=temp.get_next()\n",
        "    head.set_data(val)\n",
        "    index+=1\n",
        "  temp1=head.get_data()\n",
        "  temp.set_data(temp1)\n",
        "\n",
        "\n",
        "list1=LinkedList()\n",
        "list1.add(1)\n",
        "list1.add(4)\n",
        "list1.add(6)\n",
        "list1.add(7)\n",
        "list1.add(9)\n",
        "list1.display()\n",
        "print(\"*\"*5)\n",
        "func(list1.get_head(),5)\n",
        "list1.display()"
      ],
      "execution_count": 0,
      "outputs": [
        {
          "output_type": "stream",
          "text": [
            "1\n",
            "4\n",
            "6\n",
            "7\n",
            "9\n",
            "*****\n",
            "7\n",
            "4\n",
            "6\n",
            "7\n",
            "7\n"
          ],
          "name": "stdout"
        }
      ]
    },
    {
      "cell_type": "code",
      "metadata": {
        "id": "liPc_kUyCT7A",
        "colab_type": "code",
        "colab": {}
      },
      "source": [
        "def func(num):\n",
        "  if num<1:\n",
        "    return 0\n",
        "  elif num%2==0:\n",
        "    return func(num-1)\n",
        "  else:\n",
        "    return num + func(num-2)"
      ],
      "execution_count": 0,
      "outputs": []
    },
    {
      "cell_type": "code",
      "metadata": {
        "id": "ccChOl_6DXeI",
        "colab_type": "code",
        "outputId": "c88f87ed-43eb-4d53-b75d-07e8ad906840",
        "colab": {
          "base_uri": "https://localhost:8080/",
          "height": 34
        }
      },
      "source": [
        "func(8)"
      ],
      "execution_count": 0,
      "outputs": [
        {
          "output_type": "execute_result",
          "data": {
            "text/plain": [
              "16"
            ]
          },
          "metadata": {
            "tags": []
          },
          "execution_count": 5
        }
      ]
    },
    {
      "cell_type": "code",
      "metadata": {
        "id": "Xt3yFRyaDY9U",
        "colab_type": "code",
        "outputId": "0df73259-2dc5-44d4-c19f-f862f0373c51",
        "colab": {
          "base_uri": "https://localhost:8080/",
          "height": 52
        }
      },
      "source": [
        "class Vehicle():\n",
        "  def __init__(self,color):\n",
        "    self.color=color\n",
        "\n",
        "class FourWheeler(Vehicle):\n",
        "  def __init__(self,no_of_gears,color):\n",
        "    super().__init__(color)\n",
        "    self.no_of_gears=no_of_gears\n",
        "\n",
        "class TwoWheeler(Vehicle):\n",
        "  def __init__(self,engine_cc):\n",
        "    super().__init__(\"Red\")\n",
        "    self.engine_cc=engine_cc\n",
        "    self.color=\"Blue\"\n",
        "\n",
        "maruti=FourWheeler(4,\"Red\")\n",
        "print(maruti.color,maruti.no_of_gears)\n",
        "activa=TwoWheeler(80)\n",
        "print(activa.color,activa.engine_cc)"
      ],
      "execution_count": 0,
      "outputs": [
        {
          "output_type": "stream",
          "text": [
            "Red 4\n",
            "Blue 80\n"
          ],
          "name": "stdout"
        }
      ]
    },
    {
      "cell_type": "code",
      "metadata": {
        "id": "FvB7YflnE-dI",
        "colab_type": "code",
        "colab": {}
      },
      "source": [
        "from abc import ABCMeta,abstractmethod"
      ],
      "execution_count": 0,
      "outputs": []
    },
    {
      "cell_type": "code",
      "metadata": {
        "id": "pz9HYfCHDcbW",
        "colab_type": "code",
        "outputId": "fff65655-1da7-45ac-d69e-c9bfe7f71016",
        "colab": {
          "base_uri": "https://localhost:8080/",
          "height": 52
        }
      },
      "source": [
        "class Shape(metaclass=ABCMeta):\n",
        "  def __init__(self):\n",
        "    print(\"I am in Init\")\n",
        "  @abstractmethod\n",
        "  def draw_shape(self):\n",
        "    pass\n",
        "  @abstractmethod\n",
        "  def set_color(self):\n",
        "    pass\n",
        "class Circle(Shape):\n",
        "  def draw_shape(self):\n",
        "    print(\"Draw Circle!!\")\n",
        "  def set_color(self):\n",
        "    print(\"Blue\")\n",
        "c=Circle()\n",
        "c.set_color()"
      ],
      "execution_count": 0,
      "outputs": [
        {
          "output_type": "stream",
          "text": [
            "I am in Init\n",
            "Blue\n"
          ],
          "name": "stdout"
        }
      ]
    },
    {
      "cell_type": "code",
      "metadata": {
        "id": "LIybXNoyGiV0",
        "colab_type": "code",
        "outputId": "d81cb951-8022-4aba-cd53-d25e907887f8",
        "colab": {
          "base_uri": "https://localhost:8080/",
          "height": 34
        }
      },
      "source": [
        "def func(var1,var2,var3):\n",
        "  if var1<=var2:\n",
        "    if var3>=var2:\n",
        "      if var1+var2>var3:\n",
        "        print(-1)\n",
        "      else:\n",
        "        print(-2)\n",
        "    else:\n",
        "      pass\n",
        "func(156,2100,9500)"
      ],
      "execution_count": 0,
      "outputs": [
        {
          "output_type": "stream",
          "text": [
            "-2\n"
          ],
          "name": "stdout"
        }
      ]
    },
    {
      "cell_type": "code",
      "metadata": {
        "id": "bSdXkIw8RIrL",
        "colab_type": "code",
        "outputId": "342acdc6-c96c-4c10-a9a4-68f3ff540b07",
        "colab": {
          "base_uri": "https://localhost:8080/",
          "height": 70
        }
      },
      "source": [
        "class Base:\n",
        "  def __init__(self):\n",
        "    self.__value=200\n",
        "    print(\"I am from base class!\")\n",
        "\n",
        "  def get_value(self):\n",
        "    return self.__value+1\n",
        "  \n",
        "class Child(Base):\n",
        "  \n",
        "\n",
        "  def get_num(self):\n",
        "    num=100\n",
        "    return num\n",
        "\n",
        "class GrandChild(Child):\n",
        "  def __init__(self):\n",
        "    super().__init__()\n",
        "    print(\"I am from GrandChild class!\")\n",
        "    print(self.get_value())\n",
        "    self.num=200\n",
        "\n",
        "\n",
        "gc=GrandChild()\n"
      ],
      "execution_count": 0,
      "outputs": [
        {
          "output_type": "stream",
          "text": [
            "I am from base class!\n",
            "I am from GrandChild class!\n",
            "201\n"
          ],
          "name": "stdout"
        }
      ]
    },
    {
      "cell_type": "code",
      "metadata": {
        "id": "371fgCXiSHvT",
        "colab_type": "code",
        "outputId": "3e7c2159-c2c6-4f67-f10a-285a7afdb3b4",
        "colab": {
          "base_uri": "https://localhost:8080/",
          "height": 34
        }
      },
      "source": [
        "set([7,0,3,5,1,1,5])"
      ],
      "execution_count": 0,
      "outputs": [
        {
          "output_type": "execute_result",
          "data": {
            "text/plain": [
              "{0, 1, 3, 5, 7}"
            ]
          },
          "metadata": {
            "tags": []
          },
          "execution_count": 31
        }
      ]
    },
    {
      "cell_type": "code",
      "metadata": {
        "id": "XbEbKfW2Wl5m",
        "colab_type": "code",
        "outputId": "377e4647-1239-4500-fa0d-a63f94a7f44c",
        "colab": {
          "base_uri": "https://localhost:8080/",
          "height": 34
        }
      },
      "source": [
        "s=\"GHIJ735B115\"\n",
        "even,odd=[],[]\n",
        "for i in s:\n",
        "  if i.isdigit():\n",
        "    if int(i)%2==0:\n",
        "      even.append(int(i))\n",
        "    else:\n",
        "      odd.append(int(i))\n",
        "if len(even)!=0:\n",
        "  s=\"\"\n",
        "  even=list(set(even))\n",
        "  odd=list(set(odd))\n",
        "  even.sort()\n",
        "  x=str(even[0])\n",
        "  del even[0]\n",
        "  if len(even)!=0:\n",
        "    odd.extend(even[1:])\n",
        "  odd=sorted(odd,reverse=True)\n",
        "  for j in odd:\n",
        "    s+=str(j)\n",
        "  s+=x\n",
        "  print(int(s))\n",
        "\n",
        "else:\n",
        "  print(0)"
      ],
      "execution_count": 0,
      "outputs": [
        {
          "output_type": "stream",
          "text": [
            "0\n"
          ],
          "name": "stdout"
        }
      ]
    },
    {
      "cell_type": "code",
      "metadata": {
        "id": "bouhFzLKc3x3",
        "colab_type": "code",
        "outputId": "05046a97-90cd-47d6-86ba-42e7af576571",
        "colab": {
          "base_uri": "https://localhost:8080/",
          "height": 34
        }
      },
      "source": [
        "s=\"Ab,c$d,Ef\"\n",
        "k=list(s)\n",
        "l=[]\n",
        "for i in s:\n",
        "  if i.isalnum():\n",
        "    l.append(i)\n",
        "l.reverse()\n",
        "cnt=0\n",
        "for i in range(len(s)):\n",
        "  if k[i].isalnum():\n",
        "    k[i]=l[cnt]\n",
        "    cnt+=1\n",
        "  else:\n",
        "    continue \n",
        "print(\"\".join(k))"
      ],
      "execution_count": 0,
      "outputs": [
        {
          "output_type": "stream",
          "text": [
            "fE,d$c,bA\n"
          ],
          "name": "stdout"
        }
      ]
    },
    {
      "cell_type": "code",
      "metadata": {
        "id": "LmQhNFmVcc1F",
        "colab_type": "code",
        "colab": {}
      },
      "source": [
        "s=\"[{()}]\"\n",
        "l=[]\n",
        "p=0\n",
        "for i,v in enumerate(s):\n",
        "  if v==\"{\":\n",
        "    l.append(\"}\")\n",
        "    p=i\n",
        "  elif v==\"(\":\n",
        "    l.append(\")\")\n",
        "  elif i==\"[\":\n",
        "    l.append(\"]\")\n",
        "  if i==\")\":\n",
        "    if len(l)!=0 and "
      ],
      "execution_count": 0,
      "outputs": []
    },
    {
      "cell_type": "code",
      "metadata": {
        "id": "IjXYlYkHlURi",
        "colab_type": "code",
        "outputId": "34a97624-19b1-4769-b72a-06dc00c06f17",
        "colab": {
          "base_uri": "https://localhost:8080/",
          "height": 52
        }
      },
      "source": [
        "class Mobile:\n",
        "    pass\n",
        "\n",
        "mob1=Mobile()\n",
        "mob2=Mobile()\n",
        "\n",
        "mob1.price=20000\n",
        "mob1.brand=\"Apple\"\n",
        "mob1.ios_version=11\n",
        "print(mob1.ios_version)\n",
        "\n",
        "mob2.price=3000\n",
        "mob2.brand=\"Apple\"\n",
        "mob2.ios_version=21\n",
        "print(mob2.ios_version)\n",
        "\n",
        "                                                    "
      ],
      "execution_count": 0,
      "outputs": [
        {
          "output_type": "stream",
          "text": [
            "11\n",
            "21\n"
          ],
          "name": "stdout"
        }
      ]
    },
    {
      "cell_type": "code",
      "metadata": {
        "id": "u-tf49iWMBGg",
        "colab_type": "code",
        "outputId": "7018ce3e-8be0-4e2c-c3a8-0a8509ec9d0e",
        "colab": {
          "base_uri": "https://localhost:8080/",
          "height": 52
        }
      },
      "source": [
        "class stud:\n",
        "   def __init__(self, roll_no, grade):\n",
        "      self.roll_no = roll_no\n",
        "      self.grade = grade\n",
        "   def display (self):\n",
        "      print(\"Roll no : \", self.roll_no,  \", Grade: \", self.grade)\n",
        "stud1 = stud(34,3)\n",
        "stud1.name=\"Amit\"\n",
        "print(hasattr(stud1, 'name'))\n",
        "delattr(stud1,'name')\n",
        "print(hasattr(stud1, 'name'))"
      ],
      "execution_count": 0,
      "outputs": [
        {
          "output_type": "stream",
          "text": [
            "True\n",
            "False\n"
          ],
          "name": "stdout"
        }
      ]
    },
    {
      "cell_type": "code",
      "metadata": {
        "id": "BUe2Fw2mOBKn",
        "colab_type": "code",
        "colab": {}
      },
      "source": [
        "stud1.__name__"
      ],
      "execution_count": 0,
      "outputs": []
    },
    {
      "cell_type": "code",
      "metadata": {
        "id": "Aiu6NUxdXRJ7",
        "colab_type": "code",
        "outputId": "a32b1805-5409-46b4-f43a-222cb02effd1",
        "colab": {
          "base_uri": "https://localhost:8080/",
          "height": 70
        }
      },
      "source": [
        "class Demo:\n",
        "    def __new__(self):\n",
        "        self.__init__(self)\n",
        "        print(\"Demo's __new__() invoked\")\n",
        "    def __init__(self):\n",
        "        print(\"Demo's __init__() invoked\")\n",
        "class Derived_Demo(Demo):\n",
        "    def __new__(self):\n",
        "        print(\"Derived_Demo's __new__() invoked\")\n",
        "    def __init__(self):\n",
        "        print(\"Derived_Demo's __init__() invoked\")\n",
        "def main():\n",
        "    obj1 = Derived_Demo()\n",
        "    obj2 = Demo()\n",
        "main()"
      ],
      "execution_count": 0,
      "outputs": [
        {
          "output_type": "stream",
          "text": [
            "Derived_Demo's __new__() invoked\n",
            "Demo's __init__() invoked\n",
            "Demo's __new__() invoked\n"
          ],
          "name": "stdout"
        }
      ]
    },
    {
      "cell_type": "code",
      "metadata": {
        "id": "0QUkkvRAeQs6",
        "colab_type": "code",
        "outputId": "a1efc7c4-fe28-4d99-ad16-1a28720009a8",
        "colab": {
          "base_uri": "https://localhost:8080/",
          "height": 34
        }
      },
      "source": [
        "class A:\n",
        "    def test1(self):\n",
        "        print(\" test of A called \")\n",
        "class B(A):\n",
        "    def test(self):\n",
        "        print(\" test of B called \")\n",
        "class C(A):\n",
        "    def test(self):\n",
        "        print(\" test of C called \")\n",
        "class D(B,C):\n",
        "    def test2(self):\n",
        "        print(\" test of D called \")        \n",
        "obj=D()\n",
        "obj.test()"
      ],
      "execution_count": 0,
      "outputs": [
        {
          "output_type": "stream",
          "text": [
            " test of B called \n"
          ],
          "name": "stdout"
        }
      ]
    },
    {
      "cell_type": "code",
      "metadata": {
        "id": "Uq9frSfLerEu",
        "colab_type": "code",
        "outputId": "024594c7-2ba9-45bd-e0d9-5dfe16b46c39",
        "colab": {
          "base_uri": "https://localhost:8080/",
          "height": 70
        }
      },
      "source": [
        "class A:\n",
        "    def test(self):\n",
        "        print(\"test of A called\")\n",
        "class B(A):\n",
        "    def test(self):\n",
        "        print(\"test of B called\")\n",
        "        super().test()  \n",
        "class C(A):\n",
        "    def test(self):\n",
        "        print(\"test of C called\")\n",
        "        super().test()\n",
        "class D(B,C):\n",
        "    def test2(self):\n",
        "        print(\"test of D called\")      \n",
        "obj=D()\n",
        "obj.test()"
      ],
      "execution_count": 0,
      "outputs": [
        {
          "output_type": "stream",
          "text": [
            "test of B called\n",
            "test of C called\n",
            "test of A called\n"
          ],
          "name": "stdout"
        }
      ]
    },
    {
      "cell_type": "code",
      "metadata": {
        "id": "Z2cXWa7stVRP",
        "colab_type": "code",
        "outputId": "abf02d81-d32f-4320-d04c-ca49af5a8762",
        "colab": {
          "base_uri": "https://localhost:8080/",
          "height": 52
        }
      },
      "source": [
        "try:\n",
        "    print(\"hello\")\n",
        "except:\n",
        "    pass\n",
        "finally:\n",
        "    print('uff...')"
      ],
      "execution_count": 0,
      "outputs": [
        {
          "output_type": "stream",
          "text": [
            "hello\n",
            "uff...\n"
          ],
          "name": "stdout"
        }
      ]
    },
    {
      "cell_type": "code",
      "metadata": {
        "id": "ImJFd36VvX7X",
        "colab_type": "code",
        "outputId": "dbabcbe2-c352-4dd8-edc5-1109fd7e64d5",
        "colab": {
          "base_uri": "https://localhost:8080/",
          "height": 34
        }
      },
      "source": [
        "try:\n",
        "  a=5 \n",
        "  b=8\n",
        "  assert a==b,'a is not equal to b'\n",
        "except(AssertionError):\n",
        "  print(\"Nothing\")\n"
      ],
      "execution_count": 0,
      "outputs": [
        {
          "output_type": "stream",
          "text": [
            "Nothing\n"
          ],
          "name": "stdout"
        }
      ]
    },
    {
      "cell_type": "code",
      "metadata": {
        "id": "q27isWvaYa1w",
        "colab_type": "code",
        "outputId": "bb72acf7-6dd4-41c7-e7c9-9c74f8292142",
        "colab": {
          "base_uri": "https://localhost:8080/",
          "height": 34
        }
      },
      "source": [
        "73.5/38*136\n"
      ],
      "execution_count": 0,
      "outputs": [
        {
          "output_type": "execute_result",
          "data": {
            "text/plain": [
              "263.05263157894734"
            ]
          },
          "metadata": {
            "tags": []
          },
          "execution_count": 19
        }
      ]
    },
    {
      "cell_type": "code",
      "metadata": {
        "id": "ASeWnrwXMFwo",
        "colab_type": "code",
        "outputId": "9351fa41-2f72-4f99-b0e5-27aff22b4e58",
        "colab": {
          "base_uri": "https://localhost:8080/",
          "height": 34
        }
      },
      "source": [
        "class stud:\n",
        "   def display (self):\n",
        "     pass\n",
        "stud1 = stud()\n",
        "stud1.age=7\n",
        "print(hasattr(stud1, 'age'))"
      ],
      "execution_count": 0,
      "outputs": [
        {
          "output_type": "stream",
          "text": [
            "True\n"
          ],
          "name": "stdout"
        }
      ]
    },
    {
      "cell_type": "code",
      "metadata": {
        "id": "U9J3jqnlyrF_",
        "colab_type": "code",
        "outputId": "76916f3b-a350-4b50-fe31-68cc77c248cf",
        "colab": {
          "base_uri": "https://localhost:8080/",
          "height": 70
        }
      },
      "source": [
        "def f(x):\n",
        "  for i in range(5):\n",
        "    yield i \n",
        "  \n",
        "g=f(8)\n",
        "print(next(g))\n",
        "print(next(g))\n",
        "print(next(g))"
      ],
      "execution_count": 0,
      "outputs": [
        {
          "output_type": "stream",
          "text": [
            "0\n",
            "1\n",
            "2\n"
          ],
          "name": "stdout"
        }
      ]
    },
    {
      "cell_type": "code",
      "metadata": {
        "id": "4bMQcXrm_W4o",
        "colab_type": "code",
        "outputId": "6d1cb6f5-ba73-4184-a4b9-3318fa027680",
        "colab": {
          "base_uri": "https://localhost:8080/",
          "height": 70
        }
      },
      "source": [
        "class A:\n",
        "  def __init__(self):\n",
        "    print(\"I am the construtor of parent class!\")\n",
        "    self.__abc=5 \n",
        "  def get_abc(self):\n",
        "    return self.__abc\n",
        "class B(A):\n",
        "  def __init__(self):\n",
        "    super().__init__()\n",
        "    print(\"I am from child class\")\n",
        "  def display(self):\n",
        "    print(self._A__abc)\n",
        "b=B() \n",
        "b.display()"
      ],
      "execution_count": 0,
      "outputs": [
        {
          "output_type": "stream",
          "text": [
            "I am the construtor of parent class!\n",
            "I am from child class\n",
            "5\n"
          ],
          "name": "stdout"
        }
      ]
    },
    {
      "cell_type": "code",
      "metadata": {
        "id": "tUpy1AP1Cyj4",
        "colab_type": "code",
        "outputId": "ece5d26f-d30d-4471-ab8d-e826e5babe92",
        "colab": {
          "base_uri": "https://localhost:8080/",
          "height": 52
        }
      },
      "source": [
        "class Phone:\n",
        "    def __init__(self, price, brand, camera):\n",
        "        print (\"Inside phone constructor\")\n",
        "        self.__price = price\n",
        "        self.brand = brand\n",
        "        self.camera = camera\n",
        "\n",
        "    def buy(self):\n",
        "        print (\"Buying a phone\")\n",
        "\n",
        "    def return_phone(self):\n",
        "        print (\"Returning a phone\")\n",
        "\n",
        "class FeaturePhone(Phone):\n",
        "    pass\n",
        "\n",
        "class SmartPhone(Phone):\n",
        "    def check(self):\n",
        "        print(self._Phone__price)\n",
        "\n",
        "s=SmartPhone(20000, \"Apple\", 13)\n",
        "s.check()\n"
      ],
      "execution_count": 0,
      "outputs": [
        {
          "output_type": "stream",
          "text": [
            "Inside phone constructor\n",
            "20000\n"
          ],
          "name": "stdout"
        }
      ]
    },
    {
      "cell_type": "code",
      "metadata": {
        "id": "Zg-sFekyGNgi",
        "colab_type": "code",
        "outputId": "bb47d39c-10b8-4485-ff11-fb3bd61099bb",
        "colab": {
          "base_uri": "https://localhost:8080/",
          "height": 70
        }
      },
      "source": [
        "class A:\n",
        "  def __init__(self):\n",
        "    print(\"I am from base Class!!\")\n",
        "    self.var1=500\n",
        "  def show(self):\n",
        "    print(\"I am the show method of base class, you have requested me, that's why i came!!\")\n",
        "class B(A):\n",
        "  def show(self):\n",
        "    print(\"I am the show method of child class!!\")\n",
        "    super().show() \n",
        "b=B()\n",
        "b.show()"
      ],
      "execution_count": 0,
      "outputs": [
        {
          "output_type": "stream",
          "text": [
            "I am from base Class!!\n",
            "I am the show method of child class!!\n",
            "I am the show method of base class, you have requested me, that's why i came!!\n"
          ],
          "name": "stdout"
        }
      ]
    },
    {
      "cell_type": "code",
      "metadata": {
        "id": "YvnXF9cuLrJs",
        "colab_type": "code",
        "outputId": "0d21b587-c7d7-48d0-e9c8-4709acafd518",
        "colab": {
          "base_uri": "https://localhost:8080/",
          "height": 70
        }
      },
      "source": [
        "class Product:\n",
        "    def review(self):\n",
        "        print (\"Product customer review\")\n",
        "\n",
        "class Phone(Product):\n",
        "    def __init__(self, price, brand, camera):\n",
        "        print (\"Inside phone constructor\")\n",
        "        self.__price = price\n",
        "        self.brand = brand\n",
        "        self.camera = camera\n",
        "\n",
        "    def buy(self):\n",
        "        print (\"Buying a phone\")\n",
        "\n",
        "    def return_phone(self):\n",
        "        print (\"Returning a phone\")\n",
        "\n",
        "class SmartPhone(Phone):\n",
        "    pass\n",
        "\n",
        "s=SmartPhone(20000, \"Apple\", 12)\n",
        "\n",
        "s.buy()\n",
        "s.review()\n"
      ],
      "execution_count": 0,
      "outputs": [
        {
          "output_type": "stream",
          "text": [
            "Inside phone constructor\n",
            "Buying a phone\n",
            "Product customer review\n"
          ],
          "name": "stdout"
        }
      ]
    },
    {
      "cell_type": "code",
      "metadata": {
        "id": "kLkzPAh4Nsfy",
        "colab_type": "code",
        "outputId": "2766e3f3-8e7d-42f3-e09c-47a352786fb8",
        "colab": {
          "base_uri": "https://localhost:8080/",
          "height": 34
        }
      },
      "source": [
        "class A:\n",
        "    def m1(self):\n",
        "        return 20\n",
        "class B(A):\n",
        "    def m6(self):\n",
        "        return 30\n",
        "    def m2(self):\n",
        "        return 40\n",
        "class C(B):\n",
        "    def m2(self):\n",
        "        return 20\n",
        "obj1=A()\n",
        "obj2=B()\n",
        "obj3=C()\n",
        "print(obj1.m1() + obj3.m1()+ obj3.m2())"
      ],
      "execution_count": 0,
      "outputs": [
        {
          "output_type": "stream",
          "text": [
            "60\n"
          ],
          "name": "stdout"
        }
      ]
    },
    {
      "cell_type": "code",
      "metadata": {
        "id": "zfP6nt6mRqMA",
        "colab_type": "code",
        "outputId": "8cf19a39-b069-418e-9ad2-f2770232933e",
        "colab": {
          "base_uri": "https://localhost:8080/",
          "height": 221
        }
      },
      "source": [
        "from abc import ABCMeta,abstractmethod\n",
        "class Product(metaclass=ABCMeta):\n",
        "    @abstractmethod\n",
        "    def return_policy(self):\n",
        "        pass\n",
        "class Mobile(Product):\n",
        "    def return_policy(self):\n",
        "      print(\"Return policy is of 15 days!!\")\n",
        "    pass\n",
        "class Shoe(Product):\n",
        "    pass\n",
        "Mobile().return_policy()\n",
        "s=Shoe()"
      ],
      "execution_count": 0,
      "outputs": [
        {
          "output_type": "stream",
          "text": [
            "Return policy is of 15 days!!\n"
          ],
          "name": "stdout"
        },
        {
          "output_type": "error",
          "ename": "TypeError",
          "evalue": "ignored",
          "traceback": [
            "\u001b[0;31m---------------------------------------------------------------------------\u001b[0m",
            "\u001b[0;31mTypeError\u001b[0m                                 Traceback (most recent call last)",
            "\u001b[0;32m<ipython-input-87-bac4d7aa6a8a>\u001b[0m in \u001b[0;36m<module>\u001b[0;34m()\u001b[0m\n\u001b[1;32m     11\u001b[0m     \u001b[0;32mpass\u001b[0m\u001b[0;34m\u001b[0m\u001b[0;34m\u001b[0m\u001b[0m\n\u001b[1;32m     12\u001b[0m \u001b[0mMobile\u001b[0m\u001b[0;34m(\u001b[0m\u001b[0;34m)\u001b[0m\u001b[0;34m.\u001b[0m\u001b[0mreturn_policy\u001b[0m\u001b[0;34m(\u001b[0m\u001b[0;34m)\u001b[0m\u001b[0;34m\u001b[0m\u001b[0;34m\u001b[0m\u001b[0m\n\u001b[0;32m---> 13\u001b[0;31m \u001b[0ms\u001b[0m\u001b[0;34m=\u001b[0m\u001b[0mShoe\u001b[0m\u001b[0;34m(\u001b[0m\u001b[0;34m)\u001b[0m\u001b[0;34m\u001b[0m\u001b[0;34m\u001b[0m\u001b[0m\n\u001b[0m",
            "\u001b[0;31mTypeError\u001b[0m: Can't instantiate abstract class Shoe with abstract methods return_policy"
          ]
        }
      ]
    },
    {
      "cell_type": "code",
      "metadata": {
        "id": "8IxODYw1U89g",
        "colab_type": "code",
        "colab": {}
      },
      "source": [
        "from abc import ABCMeta, abstractmethod\n",
        "class Parent(metaclass=ABCMeta):\n",
        "    def __init__(self):\n",
        "        self.num=5\n",
        "    @abstractmethod\n",
        "    def show(self):\n",
        "        pass\n",
        "\n",
        "class Child(Parent):\n",
        "    def __init__(self):\n",
        "        super().__init__()\n",
        "        self.var=10\n",
        "\n",
        "class GrandChild(Child):\n",
        "    def show(self):\n",
        "        print(self.num)\n",
        "        print(self.var)\n",
        "        print(\"This is possible\")\n",
        "\n",
        "obj=GrandChild()\n",
        "obj.show()\n",
        "o=Child()"
      ],
      "execution_count": 0,
      "outputs": []
    },
    {
      "cell_type": "code",
      "metadata": {
        "id": "n7fg_f6EZhLK",
        "colab_type": "code",
        "outputId": "308779fc-a318-453e-e103-14f4f49588da",
        "colab": {
          "base_uri": "https://localhost:8080/",
          "height": 105
        }
      },
      "source": [
        "class CreditCard:\n",
        "    def __init__(self, card_no, balance):\n",
        "        self.card_no = card_no\n",
        "        self.balance = balance\n",
        "\n",
        "class Customer:\n",
        "    def __init__(self,cards):\n",
        "        self.cards=cards\n",
        "\n",
        "    def purchase_item(self, price, card_no):\n",
        "        if price < 0:\n",
        "            raise Exception()\n",
        "        if card_no not in self.cards:\n",
        "            raise Exception()\n",
        "        if price>self.cards[card_no].balance:\n",
        "            raise Exception()\n",
        "\n",
        "card1=CreditCard(101,800)\n",
        "card2=CreditCard(102,2000)\n",
        "cards={card1.card_no:card1,card2.card_no:card2}\n",
        "c=Customer(cards)\n",
        "\n",
        "while(True):\n",
        "    card_no=int(input(\"Please enter a card number\"))\n",
        "    try:\n",
        "        c.purchase_item(1200,card_no)\n",
        "        break\n",
        "    except Exception as e:\n",
        "        print(\"Something went wrong. \"+str(e))"
      ],
      "execution_count": 0,
      "outputs": [
        {
          "output_type": "stream",
          "text": [
            "Please enter a card number123\n",
            "Something went wrong. \n",
            "Please enter a card number456\n",
            "Something went wrong. \n",
            "Please enter a card number102\n"
          ],
          "name": "stdout"
        }
      ]
    }
  ]
}