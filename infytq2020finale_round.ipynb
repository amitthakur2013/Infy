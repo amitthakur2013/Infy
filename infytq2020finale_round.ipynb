{
  "nbformat": 4,
  "nbformat_minor": 0,
  "metadata": {
    "colab": {
      "name": "infytq2020finale round.ipynb",
      "provenance": [],
      "authorship_tag": "ABX9TyO5kTB/xO8eGTUl7b7LZC0B",
      "include_colab_link": true
    },
    "kernelspec": {
      "name": "python3",
      "display_name": "Python 3"
    }
  },
  "cells": [
    {
      "cell_type": "markdown",
      "metadata": {
        "id": "view-in-github",
        "colab_type": "text"
      },
      "source": [
        "<a href=\"https://colab.research.google.com/github/amitthakur2013/Infy/blob/master/infytq2020finale_round.ipynb\" target=\"_parent\"><img src=\"https://colab.research.google.com/assets/colab-badge.svg\" alt=\"Open In Colab\"/></a>"
      ]
    },
    {
      "cell_type": "code",
      "metadata": {
        "id": "ethsT2DpOLYb",
        "colab_type": "code",
        "colab": {
          "base_uri": "https://localhost:8080/",
          "height": 51
        },
        "outputId": "8ca63c93-3e2f-471d-f42e-794f712a54b1"
      },
      "source": [
        "s=input()\n",
        "l=[]\n",
        "count=0\n",
        "for i in s:\n",
        "  if i=='(' or i=='{' or i=='[':\n",
        "    if i=='(':\n",
        "      l.append(')')\n",
        "      count+=1\n",
        "    elif i=='{':\n",
        "      l.append('}')\n",
        "      count+=1\n",
        "    else:\n",
        "      l.append(']')\n",
        "      count+=1\n",
        "    \n",
        "  else:\n",
        "    if len(l)==0:\n",
        "      count+=1\n",
        "      break\n",
        "    else:\n",
        "      if i==')':\n",
        "        x=l.pop()\n",
        "        if x==')':\n",
        "          count+=1\n",
        "        else:\n",
        "          break\n",
        "        \n",
        "      elif i=='}':\n",
        "        x=l.pop()\n",
        "        if x=='}':\n",
        "          count+=1\n",
        "        else:\n",
        "          break\n",
        "        \n",
        "      elif i==']':\n",
        "        x=l.pop()\n",
        "        if x==']':\n",
        "          count+=1\n",
        "        else:\n",
        "          break\n",
        "        \n",
        "if len(l)==0:\n",
        "  print(count)\n",
        "else:\n",
        "  print(count+1)\n"
      ],
      "execution_count": 28,
      "outputs": [
        {
          "output_type": "stream",
          "text": [
            "[][][\n",
            "6\n"
          ],
          "name": "stdout"
        }
      ]
    },
    {
      "cell_type": "code",
      "metadata": {
        "id": "TS8h8hLyUgCA",
        "colab_type": "code",
        "colab": {
          "base_uri": "https://localhost:8080/",
          "height": 51
        },
        "outputId": "039e5708-0630-4a74-80d0-656c83488e99"
      },
      "source": [
        "#password generator\n",
        "def find_max(a,b):\n",
        "  d=list(a)\n",
        "  d=list(map(lambda x:int(x),d))\n",
        "  max1=0\n",
        "  for i in range(0,len(d)):\n",
        "    if d[i]>max1 and d[i]<=b:\n",
        "      max1=d[i]\n",
        "  return max1\n",
        "\n",
        "s=input().split(',')\n",
        "res=\"\"\n",
        "for i in s:\n",
        "  l=i.split(':')\n",
        "  d=find_max(l[1],len(l[0]))\n",
        "  if d==0:\n",
        "    res+='X'\n",
        "    continue\n",
        "  res+=l[0][d-1]\n",
        "print(res)"
      ],
      "execution_count": 17,
      "outputs": [
        {
          "output_type": "stream",
          "text": [
            "Abhishek:34848,Mayur:4739,Friends:2949,Yeah:9889\n",
            "kueX\n"
          ],
          "name": "stdout"
        }
      ]
    },
    {
      "cell_type": "code",
      "metadata": {
        "id": "uaQNMfvnXp9x",
        "colab_type": "code",
        "colab": {
          "base_uri": "https://localhost:8080/",
          "height": 51
        },
        "outputId": "bb44bafe-0c83-41f4-d64f-e8356d9395b9"
      },
      "source": [
        "l=list(input())\n",
        "s=[]\n",
        "for i in range(0,len(l)):\n",
        "  if i%2!=0:\n",
        "    s.append(str(pow(int(l[i]),2)))\n",
        "print(\"\".join(s)[:4])"
      ],
      "execution_count": 26,
      "outputs": [
        {
          "output_type": "stream",
          "text": [
            "4365188\n",
            "9256\n"
          ],
          "name": "stdout"
        }
      ]
    },
    {
      "cell_type": "code",
      "metadata": {
        "id": "o68eimVaZONK",
        "colab_type": "code",
        "colab": {
          "base_uri": "https://localhost:8080/",
          "height": 51
        },
        "outputId": "c53327c1-37bd-4757-bc85-96e7ef6d97ad"
      },
      "source": [
        "s=input()\n",
        "s1=[]\n",
        "for i in s:\n",
        "  if i.isalpha():\n",
        "    s1.append(i) \n",
        "s1.reverse()\n",
        "ind=0 \n",
        "res=\"\"\n",
        "for i in range(0,len(s)):\n",
        "  if s[i].isalpha():\n",
        "    res+=s1[ind]\n",
        "    ind+=1\n",
        "  else:\n",
        "    res+=s[i]\n",
        "print(res)\n"
      ],
      "execution_count": 30,
      "outputs": [
        {
          "output_type": "stream",
          "text": [
            "intell#ect\n",
            "tcelle#tni\n"
          ],
          "name": "stdout"
        }
      ]
    },
    {
      "cell_type": "code",
      "metadata": {
        "id": "4-mL38zFeVgR",
        "colab_type": "code",
        "colab": {
          "base_uri": "https://localhost:8080/",
          "height": 51
        },
        "outputId": "3402448b-7ff4-4c09-a489-9ae61b0a8824"
      },
      "source": [
        "#Longest prefix which is also a suffix:\n",
        "s=input()\n",
        "cnt=0\n",
        "mid=len(s)//2\n",
        "a=mid\n",
        "b=mid+1\n",
        "for i in range(0,len(s)//2):\n",
        "  s1=s[:a] \n",
        "  s2=s[b:]\n",
        "  if s1==s2:\n",
        "    cnt=len(s1)\n",
        "    break\n",
        "  a-=1 \n",
        "  b+=1\n",
        "print(cnt)"
      ],
      "execution_count": 56,
      "outputs": [
        {
          "output_type": "stream",
          "text": [
            "ababa\n",
            "1\n"
          ],
          "name": "stdout"
        }
      ]
    },
    {
      "cell_type": "code",
      "metadata": {
        "id": "HujkukoChVv9",
        "colab_type": "code",
        "colab": {
          "base_uri": "https://localhost:8080/",
          "height": 34
        },
        "outputId": "0af05354-54dd-4810-89bc-cda776dda6f9"
      },
      "source": [
        "s=\"abcdabc\"\n",
        "s[len(s)//2]"
      ],
      "execution_count": 49,
      "outputs": [
        {
          "output_type": "execute_result",
          "data": {
            "text/plain": [
              "''"
            ]
          },
          "metadata": {
            "tags": []
          },
          "execution_count": 49
        }
      ]
    },
    {
      "cell_type": "code",
      "metadata": {
        "id": "PdbCuA8Ylf85",
        "colab_type": "code",
        "colab": {
          "base_uri": "https://localhost:8080/",
          "height": 51
        },
        "outputId": "e87c84af-df54-44c7-eafe-a2eb525c55ae"
      },
      "source": [
        "import re\n",
        "s=input() \n",
        "d=list(set(re.findall(r'\\d+',s)[0]))\n",
        "even=[]\n",
        "odd=[]\n",
        "for i in d:\n",
        "  if int(i)%2==0:\n",
        "    even.append(int(i))\n",
        "  else:\n",
        "    odd.append(int(i))\n",
        "if len(even)==0:\n",
        "  print(-1)\n",
        "else:\n",
        "  x=min(even)\n",
        "  even.remove(x)\n",
        "  odd.extend(even)\n",
        "  odd=sorted(odd,reverse=True)\n",
        "  res=\"\"\n",
        "  for i in odd:\n",
        "    res+=str(i)\n",
        "  res+=str(x)\n",
        "  print(int(res))\n"
      ],
      "execution_count": 68,
      "outputs": [
        {
          "output_type": "stream",
          "text": [
            "infytq73119755\n",
            "-1\n"
          ],
          "name": "stdout"
        }
      ]
    },
    {
      "cell_type": "code",
      "metadata": {
        "id": "lJEHvU8SqTLp",
        "colab_type": "code",
        "colab": {
          "base_uri": "https://localhost:8080/",
          "height": 51
        },
        "outputId": "f37bf9b3-1066-4c58-8671-52e55740d74a"
      },
      "source": [
        "s=input()\n",
        "cnt=0\n",
        "res=\"\"\n",
        "for i in range(0,len(s)-1):\n",
        "  for j in range(i+1,len(s)):\n",
        "    sub=s[i:j]\n",
        "    if len(sub)==len(set(sub)):\n",
        "      if len(sub)>cnt:\n",
        "        cnt=len(sub)\n",
        "        res=sub\n",
        "if len(res)<3:\n",
        "  print(-1)\n",
        "else:\n",
        "  print(res)\n",
        "    "
      ],
      "execution_count": 78,
      "outputs": [
        {
          "output_type": "stream",
          "text": [
            "vvvabcdggg\n",
            "vabcdg\n"
          ],
          "name": "stdout"
        }
      ]
    },
    {
      "cell_type": "code",
      "metadata": {
        "id": "HfcyBubrrOrq",
        "colab_type": "code",
        "colab": {
          "base_uri": "https://localhost:8080/",
          "height": 34
        },
        "outputId": "6d024b40-e677-49cc-ac9e-23badf7ad9ed"
      },
      "source": [
        "set('aa')"
      ],
      "execution_count": 70,
      "outputs": [
        {
          "output_type": "execute_result",
          "data": {
            "text/plain": [
              "{'a'}"
            ]
          },
          "metadata": {
            "tags": []
          },
          "execution_count": 70
        }
      ]
    },
    {
      "cell_type": "code",
      "metadata": {
        "id": "7kC2aeyNtCyu",
        "colab_type": "code",
        "colab": {
          "base_uri": "https://localhost:8080/",
          "height": 51
        },
        "outputId": "4bb6d387-afd1-4908-cff8-58918c8ce030"
      },
      "source": [
        "def check_even_odd(n):\n",
        "  ans=0\n",
        "  while(n!=0):\n",
        "    d=n%10\n",
        "    ans+=pow(d,2)\n",
        "    n=n//10 \n",
        "  if ans%2==0:\n",
        "    return 0 \n",
        "  else:\n",
        "    return 1\n",
        "s=input().split(',')\n",
        "for i in s:\n",
        "  l=i.split(':') \n",
        "  if check_even_odd(int(l[1]))==0:\n",
        "    res=l[0][-2:]+l[0][:-2]\n",
        "    print(res,end=\" \")\n",
        "  else:\n",
        "    res=l[0][1:]+l[0][:1]\n",
        "    print(res,end=\" \")\n",
        "\n",
        "  "
      ],
      "execution_count": 83,
      "outputs": [
        {
          "output_type": "stream",
          "text": [
            "abcd:1234,bcdgfhf:127836,sdjks:1245\n",
            "cdab cdgfhfb kssdj "
          ],
          "name": "stdout"
        }
      ]
    },
    {
      "cell_type": "code",
      "metadata": {
        "id": "QnLt9OuvwrDO",
        "colab_type": "code",
        "colab": {
          "base_uri": "https://localhost:8080/",
          "height": 51
        },
        "outputId": "3e76fbf7-a59c-4592-9148-e992c43ad48d"
      },
      "source": [
        "s=list(input()) \n",
        "a=s.index('5')\n",
        "b=s.index('8')\n",
        "s1=s[:a]\n",
        "s2=s[b+1:]\n",
        "num1=s1+s2 \n",
        "num1=list(map(lambda x:int(x),num1))\n",
        "num1=sum(num1)\n",
        "num2=s[a:b+1]\n",
        "num2=int(\"\".join(num2))\n",
        "print(num1+num2)\n"
      ],
      "execution_count": 85,
      "outputs": [
        {
          "output_type": "stream",
          "text": [
            "32651489\n",
            "5168\n"
          ],
          "name": "stdout"
        }
      ]
    },
    {
      "cell_type": "code",
      "metadata": {
        "id": "GN1v_HOVzX1U",
        "colab_type": "code",
        "colab": {
          "base_uri": "https://localhost:8080/",
          "height": 68
        },
        "outputId": "1a86eeef-e8d6-4b96-9b0a-c862e6275b9a"
      },
      "source": [
        "n=int(input())\n",
        "s=list(map(int,input().split()))\n",
        "l=[]\n",
        "for i in range(0,10):\n",
        "  if i in s:\n",
        "    l.append(s.count(i))\n",
        "l.sort()\n",
        "for i in range(len(l)):\n",
        "  if n>=l[i]:\n",
        "    n=n-l[i] \n",
        "    l[i]=0\n",
        "  else:\n",
        "    break\n",
        "  \n",
        "print(len(l)-l.count(0))\n"
      ],
      "execution_count": 92,
      "outputs": [
        {
          "output_type": "stream",
          "text": [
            "3\n",
            "1 1 1 2 2 2 4 5 6\n",
            "2\n"
          ],
          "name": "stdout"
        }
      ]
    },
    {
      "cell_type": "code",
      "metadata": {
        "id": "XfDyADIt2kzR",
        "colab_type": "code",
        "colab": {}
      },
      "source": [
        "#Longest Possible X-Series\n"
      ],
      "execution_count": 0,
      "outputs": []
    },
    {
      "cell_type": "code",
      "metadata": {
        "id": "yTUX4AMBOHHF",
        "colab_type": "code",
        "colab": {
          "base_uri": "https://localhost:8080/",
          "height": 51
        },
        "outputId": "8e6318a1-24b9-4e01-9563-9627bae587fa"
      },
      "source": [
        "s=input()\n",
        "l=s.lower()\n",
        "s=list(s)\n",
        "l=list(set(l)) \n",
        "x=[]\n",
        "for i in range(len(l)):\n",
        "  y=[]\n",
        "  for j in range(len(s)):\n",
        "    if l[i]==s[j] or l[i]==s[j].lower():\n",
        "      y.append(s[j])\n",
        "  x.append(\"\".join(y)) \n",
        "x=sorted(x,key=lambda x:x.lower())\n",
        "res=\"\"\n",
        "if len(x)%2==0:\n",
        "  n=len(x)//2\n",
        "else:\n",
        "  n=len(x)//2+1\n",
        "for i in range(n):\n",
        "  a=i\n",
        "  b=len(x)-1-i\n",
        "  if a==b:\n",
        "    res+=x[a]\n",
        "  else:\n",
        "    res+=x[a]+x[b]\n",
        "print(res)"
      ],
      "execution_count": 106,
      "outputs": [
        {
          "output_type": "stream",
          "text": [
            "HeLloOWorLDd\n",
            "DdWerHoOoLlL\n"
          ],
          "name": "stdout"
        }
      ]
    },
    {
      "cell_type": "code",
      "metadata": {
        "id": "TRDeIWrqYvoq",
        "colab_type": "code",
        "colab": {
          "base_uri": "https://localhost:8080/",
          "height": 68
        },
        "outputId": "c07d60ee-a28b-4a94-adaa-a8a4579978b1"
      },
      "source": [
        "v1=list(input().split('.'))\n",
        "v1=list(map(lambda x:int(x),v1))\n",
        "v2=list(input().split('.'))\n",
        "v2=list(map(lambda x:int(x),v2))\n",
        "if len(v1)<len(v2):\n",
        "  v1.extend([0 for _ in range(len(v2)-len(v1))])\n",
        "else:\n",
        "  v2.extend([0 for _ in range(len(v1)-len(v2))])\n",
        "cnt=0\n",
        "for i in range(len(v1)):\n",
        "  if v1[i]==v2[i]:\n",
        "    cnt+=1\n",
        "    continue\n",
        "  else:\n",
        "    if v1[i]>v2[i]:\n",
        "      print(1)\n",
        "      break\n",
        "    elif v2[i]>v1[i]:\n",
        "      print(-1)\n",
        "      break\n",
        "if(cnt==len(v1)):\n",
        "  print(0)\n"
      ],
      "execution_count": 112,
      "outputs": [
        {
          "output_type": "stream",
          "text": [
            "1.0.1\n",
            "1\n",
            "1\n"
          ],
          "name": "stdout"
        }
      ]
    },
    {
      "cell_type": "code",
      "metadata": {
        "id": "qhQ-TeUYUDEC",
        "colab_type": "code",
        "colab": {
          "base_uri": "https://localhost:8080/",
          "height": 51
        },
        "outputId": "0ffdc315-8cde-4afa-b215-0b3dae61779e"
      },
      "source": [
        "s=input()\n",
        "cnt=0\n",
        "even=[]\n",
        "odd=[]\n",
        "for i in s:\n",
        "  if i.isalnum():\n",
        "    cnt+=1\n",
        "  if i.isdigit():\n",
        "    if int(i)%2==0:\n",
        "      even.append(i)\n",
        "    else:\n",
        "      odd.append(i)\n",
        "res=[]\n",
        "if (len(s)-cnt)%2==0:\n",
        "  for i in range(min(len(even),len(odd))):\n",
        "    res.append(even.pop(0))\n",
        "    res.append(odd.pop(0))\n",
        "  while(len(even)!=0):\n",
        "    res.append(even.pop(0))\n",
        "  while(len(odd)!=0):\n",
        "    res.append(odd.pop(0))\n",
        "else:\n",
        "  for i in range(min(len(even),len(odd))):\n",
        "    res.append(odd.pop(0))\n",
        "    res.append(even.pop(0))\n",
        "  while(len(even)!=0):\n",
        "    res.append(even.pop(0))\n",
        "  while(len(odd)!=0):\n",
        "    res.append(odd.pop(0))\n",
        "print(\"\".join(res))\n",
        "\n"
      ],
      "execution_count": 126,
      "outputs": [
        {
          "output_type": "stream",
          "text": [
            "#bn7856!@kn2n65jbnj482375\n",
            "7856523674582\n"
          ],
          "name": "stdout"
        }
      ]
    },
    {
      "cell_type": "code",
      "metadata": {
        "id": "Vsrpj7SuidyC",
        "colab_type": "code",
        "colab": {}
      },
      "source": [
        "A5w8@k7!l23n69"
      ],
      "execution_count": 0,
      "outputs": []
    },
    {
      "cell_type": "code",
      "metadata": {
        "id": "IzXdgLnrjpd9",
        "colab_type": "code",
        "colab": {}
      },
      "source": [
        ""
      ],
      "execution_count": 0,
      "outputs": []
    }
  ]
}